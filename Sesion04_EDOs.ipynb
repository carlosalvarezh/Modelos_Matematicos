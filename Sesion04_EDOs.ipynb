{
 "cells": [
  {
   "cell_type": "markdown",
   "metadata": {},
   "source": [
    "<h1 align=\"center\">Modelos Matemáticos de Ingeniería</h1>\n",
    "<h1 align=\"center\">Sesión 04 - EDOs y su clasificación</h1>\n",
    "<h1 align=\"center\">2021/02</h1>\n",
    "<h1 align=\"center\">MEDELLÍN - COLOMBIA </h1>"
   ]
  },
  {
   "cell_type": "markdown",
   "metadata": {},
   "source": [
    "*** \n",
    "\n",
    "***Docente:*** Carlos Alberto Álvarez Henao, I.C. D.Sc.\n",
    "\n",
    "***e-mail:*** carlosalvarezh@gmail.com\n",
    "\n",
    "***skype:*** carlos.alberto.alvarez.henao\n",
    "\n",
    "***Linkedin:*** https://www.linkedin.com/in/carlosalvarez5/\n",
    "\n",
    "***github:*** https://github.com/carlosalvarezh/Dinamica\n",
    "\n",
    "***Herramienta:*** [Jupyter](http://jupyter.org/)\n",
    "\n",
    "***Kernel:*** Python 3.9\n",
    "\n",
    "\n",
    "***"
   ]
  },
  {
   "cell_type": "markdown",
   "metadata": {},
   "source": [
    "***Nota:*** *Este notebook fue creada basado en el original del blog post por [Raúl E. López Briega](http://relopezbriega.com.ar/) en [Matemáticas, análisis de datos y python](http://relopezbriega.github.io). El contenido esta bajo la licencia BSD.* Todo el crédito y agradecimientos al Dr. Raúl López."
   ]
  },
  {
   "cell_type": "markdown",
   "metadata": {},
   "source": [
    "<a id='TOC'></a>"
   ]
  },
  {
   "cell_type": "markdown",
   "metadata": {
    "toc": true
   },
   "source": [
    "<h1>Tabla de Contenidos<span class=\"tocSkip\"></span></h1>\n",
    "<div class=\"toc\"><ul class=\"toc-item\"><li><span><a href=\"#Introducción\" data-toc-modified-id=\"Introducción-1\"><span class=\"toc-item-num\">1&nbsp;&nbsp;</span>Introducción</a></span></li><li><span><a href=\"#¿Qué-es-una-ecuación-diferencial?\" data-toc-modified-id=\"¿Qué-es-una-ecuación-diferencial?-2\"><span class=\"toc-item-num\">2&nbsp;&nbsp;</span>¿Qué es una ecuación diferencial?</a></span><ul class=\"toc-item\"><li><span><a href=\"#Ecuaciones-diferenciales-ordinarias-y-parciales\" data-toc-modified-id=\"Ecuaciones-diferenciales-ordinarias-y-parciales-2.1\"><span class=\"toc-item-num\">2.1&nbsp;&nbsp;</span>Ecuaciones diferenciales ordinarias y parciales</a></span></li><li><span><a href=\"#Orden-de-las-Ecuaciones-diferenciales\" data-toc-modified-id=\"Orden-de-las-Ecuaciones-diferenciales-2.2\"><span class=\"toc-item-num\">2.2&nbsp;&nbsp;</span>Orden de las Ecuaciones diferenciales</a></span></li><li><span><a href=\"#Ecuaciones-diferenciales-separables\" data-toc-modified-id=\"Ecuaciones-diferenciales-separables-2.3\"><span class=\"toc-item-num\">2.3&nbsp;&nbsp;</span>Ecuaciones diferenciales separables</a></span></li><li><span><a href=\"#Ecuaciones-diferenciales-lineales\" data-toc-modified-id=\"Ecuaciones-diferenciales-lineales-2.4\"><span class=\"toc-item-num\">2.4&nbsp;&nbsp;</span>Ecuaciones diferenciales lineales</a></span></li><li><span><a href=\"#Condición-inicial\" data-toc-modified-id=\"Condición-inicial-2.5\"><span class=\"toc-item-num\">2.5&nbsp;&nbsp;</span>Condición inicial</a></span></li></ul></li><li><span><a href=\"#Series-de-potencias\" data-toc-modified-id=\"Series-de-potencias-3\"><span class=\"toc-item-num\">3&nbsp;&nbsp;</span>Series de potencias</a></span><ul class=\"toc-item\"><li><span><a href=\"#¿Qué-es-una-serie-de-potencias?\" data-toc-modified-id=\"¿Qué-es-una-serie-de-potencias?-3.1\"><span class=\"toc-item-num\">3.1&nbsp;&nbsp;</span>¿Qué es una serie de potencias?</a></span></li><li><span><a href=\"#Series-de-Taylor\" data-toc-modified-id=\"Series-de-Taylor-3.2\"><span class=\"toc-item-num\">3.2&nbsp;&nbsp;</span>Series de Taylor</a></span></li></ul></li><li><span><a href=\"#Resolviendo-Ecuaciones-diferenciales-con-Python\" data-toc-modified-id=\"Resolviendo-Ecuaciones-diferenciales-con-Python-4\"><span class=\"toc-item-num\">4&nbsp;&nbsp;</span>Resolviendo Ecuaciones diferenciales con Python</a></span><ul class=\"toc-item\"><li><span><a href=\"#Soluciones-analíticas-con-Python\" data-toc-modified-id=\"Soluciones-analíticas-con-Python-4.1\"><span class=\"toc-item-num\">4.1&nbsp;&nbsp;</span>Soluciones analíticas con Python</a></span></li><li><span><a href=\"#Campos-de-direcciones\" data-toc-modified-id=\"Campos-de-direcciones-4.2\"><span class=\"toc-item-num\">4.2&nbsp;&nbsp;</span>Campos de direcciones</a></span></li><li><span><a href=\"#Transformada-de-Laplace\" data-toc-modified-id=\"Transformada-de-Laplace-4.3\"><span class=\"toc-item-num\">4.3&nbsp;&nbsp;</span>Transformada de Laplace</a></span><ul class=\"toc-item\"><li><span><a href=\"#¿Qué-es-una-Transformada-de-Laplace?\" data-toc-modified-id=\"¿Qué-es-una-Transformada-de-Laplace?-4.3.1\"><span class=\"toc-item-num\">4.3.1&nbsp;&nbsp;</span>¿Qué es una Transformada de Laplace?</a></span></li><li><span><a href=\"#Tabla-de-transformadas-de-Laplace\" data-toc-modified-id=\"Tabla-de-transformadas-de-Laplace-4.3.2\"><span class=\"toc-item-num\">4.3.2&nbsp;&nbsp;</span>Tabla de transformadas de Laplace</a></span></li><li><span><a href=\"#Propiedades-de-las-transformadas-de-Laplace\" data-toc-modified-id=\"Propiedades-de-las-transformadas-de-Laplace-4.3.3\"><span class=\"toc-item-num\">4.3.3&nbsp;&nbsp;</span>Propiedades de las transformadas de Laplace</a></span></li><li><span><a href=\"#Resolviendo-ecuaciones-diferenciales-con-la-transformada-de-Laplace\" data-toc-modified-id=\"Resolviendo-ecuaciones-diferenciales-con-la-transformada-de-Laplace-4.3.4\"><span class=\"toc-item-num\">4.3.4&nbsp;&nbsp;</span>Resolviendo ecuaciones diferenciales con la transformada de Laplace</a></span></li></ul></li><li><span><a href=\"#Métodos-numéricos\" data-toc-modified-id=\"Métodos-numéricos-4.4\"><span class=\"toc-item-num\">4.4&nbsp;&nbsp;</span>Métodos numéricos</a></span><ul class=\"toc-item\"><li><span><a href=\"#El-Método-de-Euler\" data-toc-modified-id=\"El-Método-de-Euler-4.4.1\"><span class=\"toc-item-num\">4.4.1&nbsp;&nbsp;</span>El Método de Euler</a></span></li><li><span><a href=\"#El-Método-de-Runge-Kutta\" data-toc-modified-id=\"El-Método-de-Runge-Kutta-4.4.2\"><span class=\"toc-item-num\">4.4.2&nbsp;&nbsp;</span>El Método de Runge-Kutta</a></span></li><li><span><a href=\"#Soluciones-numéricas-con-Python\" data-toc-modified-id=\"Soluciones-numéricas-con-Python-4.4.3\"><span class=\"toc-item-num\">4.4.3&nbsp;&nbsp;</span>Soluciones numéricas con Python</a></span></li></ul></li><li><span><a href=\"#Método-analítico-vs-Método-numérico\" data-toc-modified-id=\"Método-analítico-vs-Método-numérico-4.5\"><span class=\"toc-item-num\">4.5&nbsp;&nbsp;</span>Método analítico vs Método numérico</a></span></li></ul></li></ul></div>"
   ]
  },
  {
   "cell_type": "markdown",
   "metadata": {},
   "source": [
    "<img alt=\"Ecuaciones Diferenciales con python\" title=\"Ecuaciones Diferenciales con python\" src=\"http://relopezbriega.github.io/images/DiffEq.png\n",
    "\" width=\"500px\" height=\"400px\">"
   ]
  },
  {
   "cell_type": "markdown",
   "metadata": {},
   "source": [
    "## Introducción"
   ]
  },
  {
   "cell_type": "markdown",
   "metadata": {},
   "source": [
    "Vivimos en un mundo en constante cambio. La posición de la Tierra cambia con el tiempo; la velocidad de un objeto en caída libre cambia con la distancia; el área de un círculo cambia según el tamaño de su *radio*; la trayectoria de un proyectil cambia según la velocidad y el ángulo de disparo.\n",
    "Al intentar modelar matemáticamente cualquiera de estos fenómenos, veremos que generalmente adoptan la forma de una o más [Ecuaciones diferenciales](https://es.wikipedia.org/wiki/Ecuaci%C3%B3n_diferencial). \n",
    "\n",
    "**_Nota_**: Antes de continuar leyendo, si no tienen frescos sus conocimientos básicos de [Cálculo integral](https://es.wikipedia.org/wiki/Integraci%C3%B3n) y [Cálculo diferencial](https://es.wikipedia.org/wiki/C%C3%A1lculo_diferencial); les recomiendo que visiten mi anterior artículo de [Introducción al Cálculo](http://relopezbriega.github.io/blog/2015/12/02/introduccion-al-calculo-con-python/)."
   ]
  },
  {
   "cell_type": "markdown",
   "metadata": {},
   "source": [
    "## ¿Qué es una ecuación diferencial?"
   ]
  },
  {
   "cell_type": "markdown",
   "metadata": {},
   "source": [
    "Una [Ecuación diferencial](https://es.wikipedia.org/wiki/Ecuaci%C3%B3n_diferencial) es una ecuación que involucra una variable dependiente y sus [derivadas](https://es.wikipedia.org/wiki/Derivada) con respecto a una o más variables independientes. Muchas de las leyes de la naturaleza, en [Física](https://es.wikipedia.org/wiki/F%C3%ADsica), [Química](https://es.wikipedia.org/wiki/Qu%C3%ADmica), [Biología](https://es.wikipedia.org/wiki/Biolog%C3%ADa), y [Astronomía](https://es.wikipedia.org/wiki/Astronom%C3%ADa); encuentran la forma más natural de ser expresadas en el lenguaje de las [Ecuaciones diferenciales](https://es.wikipedia.org/wiki/Ecuaci%C3%B3n_diferencial). Estas ecuaciones no sólo tienen aplicaciones en la ciencias físicas, sino que también abundan sus aplicaciones en las ciencias aplicadas como ser [Ingeniería](https://es.wikipedia.org/wiki/Ingenier%C3%ADa), [Finanzas](https://es.wikipedia.org/wiki/Finanzas) y [Economía](https://es.wikipedia.org/wiki/Econom%C3%ADa). \n",
    "\n",
    "Es fácil entender la razón detrás de esta amplia utilidad de las [Ecuaciones diferenciales](https://es.wikipedia.org/wiki/Ecuaci%C3%B3n_diferencial). Si recordamos que $y = f(x)$ es una [función](https://es.wikipedia.org/wiki/Funci%C3%B3n_matem%C3%A1tica), entonces su [derivada](https://es.wikipedia.org/wiki/Derivada) $dy / dx$ puede ser interpretada como el *ritmo de cambio* de $y$ con respecto a $x$. En muchos procesos naturales, las variables involucradas y su *ritmo de cambio* están conectados entre sí por medio de los principios científicos básicos que rigen el proceso. Cuando esta conexión es expresada matemáticamente, el resultado generalmente es una [Ecuación diferencial](https://es.wikipedia.org/wiki/Ecuaci%C3%B3n_diferencial).\n",
    "\n",
    "Para ilustrar el caso, veamos un ejemplo. Según la [segunda ley de la dinámica de Newton](https://es.wikipedia.org/wiki/Leyes_de_Newton#Segunda_Ley_de_Newton_o_Ley_Fundamental_de_la_din.C3.A1mica), la [aceleración](https://es.wikipedia.org/wiki/Aceleraci%C3%B3n) $a$ de un cuerpo de [masa](https://es.wikipedia.org/wiki/Masa) $m$ es proporcional a la [fuerza](https://es.wikipedia.org/wiki/Fuerza) total $F$ que actúa sobre él. Si expresamos esto matemáticamente en la forma de una ecuación, entonces tememos que:\n",
    "\n",
    "$$F = ma$$\n",
    "\n",
    "A primera vista, esta ecuación no parece ser una [Ecuación diferencial](https://es.wikipedia.org/wiki/Ecuaci%C3%B3n_diferencial), pero supongamos que un objeto de [masa](https://es.wikipedia.org/wiki/Masa) $m$ esta en caída libre bajo la influencia de la [fuerza](https://es.wikipedia.org/wiki/Fuerza) de [gravedad](https://es.wikipedia.org/wiki/Gravedad). En este caso, la única [fuerza](https://es.wikipedia.org/wiki/Fuerza) actuando sobre el objeto es $mg$, donde $g$ es la [aceleración](https://es.wikipedia.org/wiki/Aceleraci%C3%B3n) debido a la [gravedad](https://es.wikipedia.org/wiki/Gravedad). Si consideramos a $u$, como la posición del objeto desde una altura determinada; entonces la [velocidad](https://es.wikipedia.org/wiki/Velocidad) de caída del objeto va a ser igual al *ritmo de cambio* de la posición $u$ con respecto al tiempo $t$; es decir que la [velocidad](https://es.wikipedia.org/wiki/Velocidad) es igual a $v = du / dt$, o sea, la [derivada](https://es.wikipedia.org/wiki/Derivada) de la posición del objeto con respecto al tiempo; y como la [aceleración](https://es.wikipedia.org/wiki/Aceleraci%C3%B3n) no es otra cosa que el *ritmo de cambio* de la [velocidad](https://es.wikipedia.org/wiki/Velocidad), entonces podemos definir a la [aceleración](https://es.wikipedia.org/wiki/Aceleraci%C3%B3n) como una segunda [derivada](https://es.wikipedia.org/wiki/Derivada) de la posición del objeto con respecto al tiempo, lo que es igual a decir que $g = d^2u / dt^2$. De esta forma, podemos reescribir la ecuación inicial de la [segunda ley de la dinámica de Newton](https://es.wikipedia.org/wiki/Leyes_de_Newton#Segunda_Ley_de_Newton_o_Ley_Fundamental_de_la_din.C3.A1mica) como la siguiente [Ecuación diferencial](https://es.wikipedia.org/wiki/Ecuaci%C3%B3n_diferencial).\n",
    "\n",
    "$$F = m\\frac{d^2u}{dt^2}$$\n",
    "\n",
    "De esta manera, estamos expresando a la [segunda ley de la dinámica de Newton](https://es.wikipedia.org/wiki/Leyes_de_Newton#Segunda_Ley_de_Newton_o_Ley_Fundamental_de_la_din.C3.A1mica) en función de la posición del objeto. "
   ]
  },
  {
   "cell_type": "markdown",
   "metadata": {},
   "source": [
    "### Ecuaciones diferenciales ordinarias y parciales"
   ]
  },
  {
   "cell_type": "markdown",
   "metadata": {},
   "source": [
    "El caso precedente, es el caso típico de una [Ecuación diferencial ordinaria](https://es.wikipedia.org/wiki/Ecuaci%C3%B3n_diferencial_ordinaria), ya que todas las [derivadas](https://es.wikipedia.org/wiki/Derivada) involucradas son tomadas con respecto a una única y misma variable independiente. Por otro lado, si en la ecuación tenemos [derivadas](https://es.wikipedia.org/wiki/Derivada) de más de una variable independiente, debemos hablar de [Ecuaciones difenciales parciales](https://es.wikipedia.org/wiki/Ecuaci%C3%B3n_en_derivadas_parciales). Por ejemplo, si $w = f(x, y, z, t)$ es una función de tiempo y 3 coordenadas de un punto en el espacio, entonces las siguientes son sus [Ecuaciones diferenciales parciales](https://es.wikipedia.org/wiki/Ecuaci%C3%B3n_en_derivadas_parciales):\n",
    "\n",
    "$$\\frac{\\partial^2 w}{\\partial x^2} +  \\frac{\\partial^2 w}{\\partial y^2} + \\frac{\\partial^2 w}{\\partial z^2} = 0;\n",
    "\\\\\n",
    "\\\\\n",
    "a^2\\left(\\frac{\\partial^2 w}{\\partial x^2} +  \\frac{\\partial^2 w}{\\partial y^2} + \\frac{\\partial^2 w}{\\partial z^2}\\right) = \\frac{\\partial w}{\\partial t};\n",
    "\\\\\n",
    "\\\\\n",
    "a^2\\left(\\frac{\\partial^2 w}{\\partial x^2} +  \\frac{\\partial^2 w}{\\partial y^2} + \\frac{\\partial^2 w}{\\partial z^2}\\right) = \\frac{\\partial^2 w}{\\partial t^2}.\n",
    "$$ \n",
    "\n",
    "En esta caso, el símbolo $\\partial$, es la notación matemática para expresar que estamos derivando parcialmente, así por ejemplo, si queremos expresar que vamos a derivar z con respecto a x, escribimos $\\partial z / \\partial x$.\n",
    "\n",
    "Estos ejemplos, tienen una gran aplicación en [Física](https://es.wikipedia.org/wiki/F%C3%ADsica) y se conocen como la [ecuación de Laplace](https://es.wikipedia.org/wiki/Ecuaci%C3%B3n_de_Laplace), la [ecuación del calor](https://es.wikipedia.org/wiki/Ecuaci%C3%B3n_del_calor) y la [ecuación de onda](https://es.wikipedia.org/wiki/Ecuaci%C3%B3n_de_onda) respectivamente. En general, las [Ecuaciones diferenciales parciales](https://es.wikipedia.org/wiki/Ecuaci%C3%B3n_en_derivadas_parciales) surgen en problemas de [campos eléctricos](https://es.wikipedia.org/wiki/Campo_el%C3%A9ctrico), [mecánica de fluidos](https://es.wikipedia.org/wiki/Mec%C3%A1nica_de_fluidos), <a href=\"https://es.wikipedia.org/wiki/Difusi%C3%B3n_(f%C3%ADsica)\">difusión</a> y movimientos de [ondas](https://es.wikipedia.org/wiki/Onda). La teoría de estas ecuaciones es bastante diferente con respecto a las [ecuaciones diferenciales ordinarias](https://es.wikipedia.org/wiki/Ecuaci%C3%B3n_diferencial_ordinaria) y suelen ser también más complicadas de resolver. En este artículo me voy a enfocar principalmente en las [ecuaciones diferenciales ordinarias](https://es.wikipedia.org/wiki/Ecuaci%C3%B3n_diferencial_ordinaria), o [EDOs](https://es.wikipedia.org/wiki/Ecuaci%C3%B3n_diferencial_ordinaria) para abreviar."
   ]
  },
  {
   "cell_type": "markdown",
   "metadata": {},
   "source": [
    "### Orden de las Ecuaciones diferenciales"
   ]
  },
  {
   "cell_type": "markdown",
   "metadata": {},
   "source": [
    "El *orden* de una [Ecuación diferencial](https://es.wikipedia.org/wiki/Ecuaci%C3%B3n_diferencial) va a ser igual al *orden* de la mayor [derivada](https://es.wikipedia.org/wiki/Derivada) presente. Así, en nuestro primer ejemplo, la [Ecuación diferencial](https://es.wikipedia.org/wiki/Ecuaci%C3%B3n_diferencial) de la [segunda ley de la dinámica de Newton](https://es.wikipedia.org/wiki/Leyes_de_Newton#Segunda_Ley_de_Newton_o_Ley_Fundamental_de_la_din.C3.A1mica) es de segundo orden, ya que nos encontramos ante la segunda derivada de la posición del objeto con respecto al tiempo. \n",
    "La ecuación general de las [ecuaciones diferenciales ordinarias](https://es.wikipedia.org/wiki/Ecuaci%C3%B3n_diferencial_ordinaria) de grado $n$ es la siguiente:\n",
    "\n",
    "$$F\\left(x, y, \\frac{dy}{dx}, \\frac{d^2y}{dx^2}, \\dots , \\frac{d^ny}{dx^n}\\right) = 0 $$\n",
    "\n",
    "o utilizando la notación prima para las [derivadas](https://es.wikipedia.org/wiki/Derivada),\n",
    "\n",
    "$$F(x, y, y', y'', \\dots, y^{(n)}) = 0$$\n",
    "\n",
    "La más simple de todas las [ecuaciones diferenciales ordinarias](https://es.wikipedia.org/wiki/Ecuaci%C3%B3n_diferencial_ordinaria) es la siguiente ecuación de primer orden:\n",
    "\n",
    "$$ \\frac{dy}{dx} = f(x)$$ \n",
    "\n",
    "y para resolverla simplemente debemos calcular su [integral indefinida](https://es.wikipedia.org/wiki/Integraci%C3%B3n_indefinida):\n",
    "\n",
    "$$y = \\int f(x) dx + c$$."
   ]
  },
  {
   "cell_type": "markdown",
   "metadata": {},
   "source": [
    "### Ecuaciones diferenciales separables"
   ]
  },
  {
   "cell_type": "markdown",
   "metadata": {},
   "source": [
    "Una *ecuación separable* es una [ecuación diferencial de primer orden](https://es.wikipedia.org/wiki/Ecuaci%C3%B3n_diferencial_ordinaria_de_primer_orden) en la que la expresión para\n",
    "$dx / dy$ se puede factorizar como una función de x multiplicada por una función de y. En otras palabras, puede ser\n",
    "escrita en la forma:\n",
    "\n",
    "$$\\frac{dy}{dx} = f(x)g(y)$$\n",
    "\n",
    "El nombre *separable* viene del hecho de que la expresión en el lado derecho se puede \"separar\" en una función de $x$ y una función de $y$.\n",
    "\n",
    "Para resolver este tipo de ecuaciones, podemos reescribirlas en la forma diferencial:\n",
    "\n",
    "$$\\frac{dy}{g(y)} = f(x)dx$$\n",
    "\n",
    "y luego podemos resolver la ecuación original integrando:\n",
    "\n",
    "$$\\int \\frac{dy}{g(y)} = \\int f(x) dx + c$$\n",
    "\n",
    "Éstas suelen ser las [Ecuaciones diferenciales](https://es.wikipedia.org/wiki/Ecuaci%C3%B3n_diferencial) más fáciles de resolver, ya que el problema de resolverlas puede ser reducido a un problema de [integración](https://es.wikipedia.org/wiki/Integraci%C3%B3n); a pesar de que igualmente muchas veces estas integrales pueden ser difíciles de calcular."
   ]
  },
  {
   "cell_type": "markdown",
   "metadata": {},
   "source": [
    "### Ecuaciones diferenciales lineales"
   ]
  },
  {
   "cell_type": "markdown",
   "metadata": {},
   "source": [
    "Uno de los tipos más importantes de [Ecuaciones diferenciales](https://es.wikipedia.org/wiki/Ecuaci%C3%B3n_diferencial) son las [Ecuaciones diferenciales lineales](https://es.wikipedia.org/wiki/Ecuaci%C3%B3n_diferencial_lineal). Este tipo de ecuaciones son muy comunes en varias ciencias y tienen la ventaja de que pueden llegar a ser resueltas en forma analítica ya que su [ecuación diferencial de primer orden](https://es.wikipedia.org/wiki/Ecuaci%C3%B3n_diferencial_ordinaria_de_primer_orden) adopta la forma:\n",
    "\n",
    "$$\\frac{dy}{dx} + P(x)y = Q(x) $$\n",
    "\n",
    "donde, $P$ y $Q$ son funciones continuas de $x$ en un determinado intervalo. Para resolver este tipo de ecuaciones de la forma $ y' + P(x)y = Q(x)$, debemos multiplicar los dos lados de la ecuación por el *factor de integración* $e^{\\int P(x) dx}$ y luego [integrar](https://es.wikipedia.org/wiki/Integraci%C3%B3n) ambos lados. Así, si por ejemplo quisiéramos resolver la siguiente [Ecuación diferencial](https://es.wikipedia.org/wiki/Ecuaci%C3%B3n_diferencial):\n",
    "\n",
    "$$\\frac{dy}{dx} + 3x^2y = 6x^2$$\n",
    "\n",
    "Primero calculamos el *factor de integración*, $I(x) = e^{\\int 3x^2 \\ dx}$, lo que es igual a $e^{x^3}$.\n",
    "\n",
    "Luego multiplicamos ambos lados de la ecuación por el recién calculado *factor de integración*.\n",
    "\n",
    "$$e^{x^3}\\frac{dy}{dx} + 3x^2e^{x^3}y = 6x^2e^{x^3}$$\n",
    "\n",
    "simplificando, obtenemos:\n",
    "\n",
    "$$\\frac{d}{dx}(e^{x^3}y) = 6x^2e^{x^3}$$\n",
    "\n",
    "Por último, integramos ambos lados de la ecuación:\n",
    "\n",
    "$$e^{x^3}y = \\int 6x^2e^{x^3} \\ dx = 2e^{x^3} + C$$\n",
    "\n",
    "y podemos obtener la solución final:\n",
    "\n",
    "$$y = Ce^{-x^3} +2 $$"
   ]
  },
  {
   "cell_type": "markdown",
   "metadata": {},
   "source": [
    "### Condición inicial"
   ]
  },
  {
   "cell_type": "markdown",
   "metadata": {},
   "source": [
    "Cuando utilizamos [Ecuaciones diferenciales](https://es.wikipedia.org/wiki/Ecuaci%C3%B3n_diferencial), generalmente no estamos interesados en encontrar una familia de soluciones (la solución general), como la que hayamos en el caso precedente, sino que vamos a estar más interesados en una solución que satisface un requerimiento particular.En muchos problemas físicos debemos de encontrar una solución particular que satisface una condición de la forma $y(t_o) = y_0$. Esto se conoce como la **condición inicial**, y el problema de encontrar una solución de la [Ecuación diferencial](https://es.wikipedia.org/wiki/Ecuaci%C3%B3n_diferencial) que satisface la *condición inicial* se conoce como el **problema de valor inicial**."
   ]
  },
  {
   "cell_type": "markdown",
   "metadata": {},
   "source": [
    "## Series de potencias"
   ]
  },
  {
   "cell_type": "markdown",
   "metadata": {},
   "source": [
    "Cuando comenzamos a lidiar con las [Ecuaciones diferenciales](https://es.wikipedia.org/wiki/Ecuaci%C3%B3n_diferencial), veremos que existen un gran número de ellas que no pueden ser resueltas en forma analítica utilizando los principios del [Cálculo integral](https://es.wikipedia.org/wiki/Integraci%C3%B3n) y el [Cálculo diferencial](https://es.wikipedia.org/wiki/C%C3%A1lculo_diferencial); pero sin embargo, tal vez podamos encontrar soluciones aproximadas para este tipo de ecuaciones en términos de [Series de potencias](https://es.wikipedia.org/wiki/Serie_de_potencias)."
   ]
  },
  {
   "cell_type": "markdown",
   "metadata": {},
   "source": [
    "### ¿Qué es una serie de potencias?"
   ]
  },
  {
   "cell_type": "markdown",
   "metadata": {},
   "source": [
    "Una [Serie de potencias](https://es.wikipedia.org/wiki/Serie_de_potencias) es una [serie](https://es.wikipedia.org/wiki/Serie_matem%C3%A1tica), generalmente infinita, que posee la siguiente forma:\n",
    "\n",
    "$$\\sum_{n=0}^{\\infty} C_nX^n = C_0 + C_1X + C_2X^2 + C_3X^3 + \\dots $$\n",
    "\n",
    "En dónde $X$ es una variable y las $C_n$ son *constantes* o los *coeficientes* de la serie. Una [Serie de potencias](https://es.wikipedia.org/wiki/Serie_de_potencias) puede [converger](https://es.wikipedia.org/wiki/Serie_convergente) para algunos valores de $X$ y [divergir](https://es.wikipedia.org/wiki/Serie_divergente) para otros valores de $X$. La suma de la [serie](https://es.wikipedia.org/wiki/Serie_matem%C3%A1tica) es una [función](https://es.wikipedia.org/wiki/Funci%C3%B3n_matem%C3%A1tica).\n",
    "\n",
    "$$f(x) = C_0 + C_1X + C_2X^2 + C_3X^3 + \\dots + C_nX^n + \\dots$$\n",
    "\n",
    "El *dominio* de esta [función](https://es.wikipedia.org/wiki/Funci%C3%B3n_matem%C3%A1tica) va a estar dado por el conjunto de todos los $X$ para los que la [serie](https://es.wikipedia.org/wiki/Serie_matem%C3%A1tica) [converge](https://es.wikipedia.org/wiki/Serie_convergente)."
   ]
  },
  {
   "cell_type": "markdown",
   "metadata": {},
   "source": [
    "### Series de Taylor"
   ]
  },
  {
   "cell_type": "markdown",
   "metadata": {},
   "source": [
    "Las [Series de Taylor](https://es.wikipedia.org/wiki/Serie_de_Taylor) son un caso especial de [Serie de potencias](https://es.wikipedia.org/wiki/Serie_de_potencias) cuyos términos adoptan la forma $(x - a)^n$. Las [Series de Taylor](https://es.wikipedia.org/wiki/Serie_de_Taylor) nos van a permitir aproximar [funciones continuas](https://es.wikipedia.org/wiki/Funci%C3%B3n_continua) que no pueden resolverse en forma analítica y se van a  calcular a partir de las [derivadas](https://es.wikipedia.org/wiki/Derivada) de estas [funciones](https://es.wikipedia.org/wiki/Funci%C3%B3n_matem%C3%A1tica). Su definición matemática es la siguiente:\n",
    "\n",
    "$$f(x) = \\sum_{n=0}^{\\infty}\\frac{f^{(n)}(a)}{n!}(x - a)^n$$\n",
    "\n",
    "Lo que es equivalente a decir:\n",
    "\n",
    "$$f(x) = f(a) + \\frac{f'(a)}{1!}(x -a) + \\frac{f''(a)}{2!}(x -a)^2 + \\frac{f'''(a)}{3!}(x -a)^3 + \\dots$$\n",
    "\n",
    "Una de las razones de que las [Series de Taylor](https://es.wikipedia.org/wiki/Serie_de_Taylor) sean importantes es que nos permiten [integrar](https://es.wikipedia.org/wiki/Integraci%C3%B3n) funciones que de otra forma no podíamos manejar. De hecho, a menudo [Newton](https://es.wikipedia.org/wiki/Isaac_Newton) [integraba](https://es.wikipedia.org/wiki/Integraci%C3%B3n) funciones por medio de, en primer lugar, expresarlas como [Series de potencias](https://es.wikipedia.org/wiki/Serie_de_potencias)  y luego [integrando](https://es.wikipedia.org/wiki/Integraci%C3%B3n) la serie término a término. Por ejemplo, la función $f(x) = e^{-x^2}$, no puede ser integrada por los métodos normales del [Cálculo integral](https://es.wikipedia.org/wiki/Integraci%C3%B3n), por lo que debemos recurrir a las [Series de Taylor](https://es.wikipedia.org/wiki/Serie_de_Taylor) para aproximar la solución de su [integral](https://es.wikipedia.org/wiki/Integraci%C3%B3n). Podríamos construir la [Serie de Taylor](https://es.wikipedia.org/wiki/Serie_de_Taylor) de esta función, del siguiente modo:\n",
    "\n",
    "$$e^{-x^2} = \\sum_{n=0}^{\\infty}\\frac{(-x^2)^n}{n!} = \\sum_{n=0}^{\\infty}(-1)^n\\frac{x^{2n}}{n!} =\n",
    "1 - \\frac{x^2}{1!} + \\frac{x^4}{2!} -\\frac{x^6}{3!} + \\dots$$"
   ]
  },
  {
   "cell_type": "markdown",
   "metadata": {},
   "source": [
    "## Resolviendo Ecuaciones diferenciales con Python"
   ]
  },
  {
   "cell_type": "markdown",
   "metadata": {},
   "source": [
    "Mientras que algunos problemas de [Ecuaciones diferenciales ordinarias](https://es.wikipedia.org/wiki/Ecuaci%C3%B3n_diferencial_ordinaria) se pueden resolver con métodos analíticos, como hemos mencionado anteriormente, son mucho más comunes los problemas  que no se pueden resolver analíticamente. Por lo tanto, en estos casos debemos recurrir a los métodos numéricos. Es aquí, dónde el poder de las computadoras y en especial, de los paquetes científicos de [Python](https://www.python.org/) como [NumPy](http://www.numpy.org/), [Matplotlib](http://matplotlib.org/), [SymPy](http://www.sympy.org/es/) y [SciPy](http://www.scipy.org/), se vuelven sumamente útiles. Veamos como podemos utilizar la fuerza computacional para resolver [Ecuaciones diferenciales](https://es.wikipedia.org/wiki/Ecuaci%C3%B3n_diferencial)."
   ]
  },
  {
   "cell_type": "markdown",
   "metadata": {},
   "source": [
    "### Soluciones analíticas con Python"
   ]
  },
  {
   "cell_type": "markdown",
   "metadata": {},
   "source": [
    "[SymPy](http://www.sympy.org/es/) nos proporciona un solucionador genérico de [Ecuaciones diferenciales ordinarias](https://es.wikipedia.org/wiki/Ecuaci%C3%B3n_diferencial_ordinaria), `sympy.dsolve`, el cual es capaz de encontrar soluciones analíticas a muchas [EDOs](https://es.wikipedia.org/wiki/Ecuaci%C3%B3n_diferencial_ordinaria) elementales. Mientras `sympy.dsolve` se puede utilizar para resolver muchas [EDOs](https://es.wikipedia.org/wiki/Ecuaci%C3%B3n_diferencial_ordinaria) sencillas simbólicamente, como veremos a continuación, debemos tener en cuenta que la mayoría de las [EDOs](https://es.wikipedia.org/wiki/Ecuaci%C3%B3n_diferencial_ordinaria) no se pueden resolver analíticamente. Por ejemplo, retomando el ejemplo que resolvimos analíticamente más arriba, veamos si llegamos al mismo resultado utilizando [SymPy](http://www.sympy.org/es/) para solucionar la siguiente [Ecuación diferencial ordinaria](https://es.wikipedia.org/wiki/Ecuaci%C3%B3n_diferencial_ordinaria):\n",
    "\n",
    "$$\\frac{dy}{dx} = -3x^2y + 6x^2$$"
   ]
  },
  {
   "cell_type": "code",
   "execution_count": 1,
   "metadata": {},
   "outputs": [],
   "source": [
    "# <!-- collapse=True -->\n",
    "# importando modulos necesarios\n",
    "%matplotlib inline\n",
    "\n",
    "import matplotlib.pyplot as plt\n",
    "import numpy as np\n",
    "import sympy \n",
    "from scipy import integrate\n",
    "\n",
    "# imprimir con notación matemática.\n",
    "sympy.init_printing(use_latex='mathjax') "
   ]
  },
  {
   "cell_type": "code",
   "execution_count": 2,
   "metadata": {},
   "outputs": [
    {
     "data": {
      "text/latex": [
       "$\\displaystyle \\frac{d}{d x} y{\\left(x \\right)} = - 3 x^{2} y{\\left(x \\right)} + 6 x^{2}$"
      ],
      "text/plain": [
       "d               2           2\n",
       "──(y(x)) = - 3⋅x ⋅y(x) + 6⋅x \n",
       "dx                           "
      ]
     },
     "execution_count": 2,
     "metadata": {},
     "output_type": "execute_result"
    }
   ],
   "source": [
    "# Resolviendo ecuación diferencial\n",
    "# defino las incognitas\n",
    "x = sympy.Symbol('x')\n",
    "y = sympy.Function('y')\n",
    "\n",
    "# expreso la ecuacion\n",
    "f = 6*x**2 - 3*x**2*(y(x))\n",
    "sympy.Eq(y(x).diff(x), f)"
   ]
  },
  {
   "cell_type": "markdown",
   "metadata": {},
   "source": [
    "Aquí primero definimos la incógnitas $x$ utilizando el objeto `Symbol` e $y$, que al ser una función, la definimos con el objeto `Function`, luego expresamos en [Python](https://www.python.org/) la ecuación que define a la función. Ahora solo nos restaría aplicar la función `dsolve` para resolver nuestra [EDO](https://es.wikipedia.org/wiki/Ecuaci%C3%B3n_diferencial_ordinaria)."
   ]
  },
  {
   "cell_type": "code",
   "execution_count": 3,
   "metadata": {},
   "outputs": [
    {
     "data": {
      "text/latex": [
       "$\\displaystyle y{\\left(x \\right)} = C_{1} e^{- x^{3}} + 2$"
      ],
      "text/plain": [
       "             3    \n",
       "           -x     \n",
       "y(x) = C₁⋅ℯ    + 2"
      ]
     },
     "execution_count": 3,
     "metadata": {},
     "output_type": "execute_result"
    }
   ],
   "source": [
    "# Resolviendo la ecuación\n",
    "sympy.dsolve(y(x).diff(x) - f)"
   ]
  },
  {
   "cell_type": "markdown",
   "metadata": {},
   "source": [
    "Como podemos ver, arribamos exactamente al mismo resultado. Siguiendo el mismo procedimiento, podemos resolver otras [EDOs](https://es.wikipedia.org/wiki/Ecuaci%C3%B3n_diferencial_ordinaria), por ejemplo si quisiéramos resolver la siguiente [Ecuación diferencial](https://es.wikipedia.org/wiki/Ecuaci%C3%B3n_diferencial):\n",
    "\n",
    "$$\\frac{dy}{dx} = \\frac{1}{2}(y^2 -1) $$\n",
    "\n",
    "que cumpla con la condición inicial $y(0) = 2$, debemos realizar el siguiente procedimiento:"
   ]
  },
  {
   "cell_type": "code",
   "execution_count": 4,
   "metadata": {},
   "outputs": [
    {
     "data": {
      "text/latex": [
       "$\\displaystyle y{\\left(x \\right)} = \\frac{1.0}{\\tanh{\\left(C_{1} - \\frac{x}{2} \\right)}}$"
      ],
      "text/plain": [
       "           1.0     \n",
       "y(x) = ────────────\n",
       "           ⎛     x⎞\n",
       "       tanh⎜C₁ - ─⎟\n",
       "           ⎝     2⎠"
      ]
     },
     "execution_count": 4,
     "metadata": {},
     "output_type": "execute_result"
    }
   ],
   "source": [
    "# definiendo la ecuación\n",
    "eq = 1.0/2 * (y(x)**2 - 1)\n",
    "\n",
    "# Condición inicial\n",
    "ics = {y(0): 2}\n",
    "\n",
    "# Resolviendo la ecuación\n",
    "edo_sol = sympy.dsolve(y(x).diff(x) - eq)\n",
    "edo_sol"
   ]
  },
  {
   "cell_type": "markdown",
   "metadata": {},
   "source": [
    "Aquí encontramos la solución general de nuestra [Ecuación diferencial](https://es.wikipedia.org/wiki/Ecuaci%C3%B3n_diferencial), ahora reemplazamos los valores de la condición inicial en nuestra ecuación."
   ]
  },
  {
   "cell_type": "code",
   "execution_count": 5,
   "metadata": {},
   "outputs": [
    {
     "data": {
      "text/latex": [
       "$\\displaystyle 2 = \\frac{1.0}{\\tanh{\\left(C_{1} \\right)}}$"
      ],
      "text/plain": [
       "      1.0   \n",
       "2 = ────────\n",
       "    tanh(C₁)"
      ]
     },
     "execution_count": 5,
     "metadata": {},
     "output_type": "execute_result"
    }
   ],
   "source": [
    "C_eq = sympy.Eq(edo_sol.lhs.subs(x, 0).subs(ics), edo_sol.rhs.subs(x, 0))\n",
    "C_eq"
   ]
  },
  {
   "cell_type": "markdown",
   "metadata": {},
   "source": [
    "y por último despejamos el valor de la [constante de integración](https://es.wikipedia.org/wiki/Constante_de_integraci%C3%B3n) resolviendo la ecuación."
   ]
  },
  {
   "cell_type": "code",
   "execution_count": 6,
   "metadata": {},
   "outputs": [
    {
     "data": {
      "text/latex": [
       "$\\displaystyle \\left[ 0.549306144334055, \\  0.549306144334055 + 3.14159265358979 i\\right]$"
      ],
      "text/plain": [
       "[0.549306144334055, 0.549306144334055 + 3.14159265358979⋅ⅈ]"
      ]
     },
     "execution_count": 6,
     "metadata": {},
     "output_type": "execute_result"
    }
   ],
   "source": [
    "sympy.solve(C_eq)"
   ]
  },
  {
   "cell_type": "markdown",
   "metadata": {},
   "source": [
    "Como vemos, el valor de la [constante de integración](https://es.wikipedia.org/wiki/Constante_de_integraci%C3%B3n) es 3, por lo tanto nuestra solución para el **problema del valore inicial** es:\n",
    "\n",
    "$$y{\\left (x \\right )} = \\frac{3 + e^{x}}{3 - e^{x}}$$\n",
    "\n",
    "Para los casos en que no exista una solución analítica, pero sí una solución aproximada por una [Serie de potencias](https://es.wikipedia.org/wiki/Serie_de_potencias), `sympy.dsolve` nos va a devolver la serie como solución. Veamos el caso de la siguiente [Ecuación diferencial](https://es.wikipedia.org/wiki/Ecuaci%C3%B3n_diferencial):\n",
    "\n",
    "$$\\frac{dy}{dx} = x^2 + y^2 -1$$"
   ]
  },
  {
   "cell_type": "code",
   "execution_count": 7,
   "metadata": {},
   "outputs": [
    {
     "data": {
      "text/latex": [
       "$\\displaystyle y{\\left(x \\right)} = x \\left(C_{1}^{2} - 1\\right) + \\frac{x^{3} \\left(\\left(C_{1}^{2} - 1\\right) \\left(3 C_{1}^{2} - 1\\right) + 1\\right)}{3} + \\frac{x^{5} \\left(5 C_{1}^{2} + \\left(C_{1}^{2} - 1\\right) \\left(4 C_{1}^{2} \\left(3 C_{1}^{2} - 2\\right) + 2 \\left(C_{1}^{2} - 1\\right) \\left(9 C_{1}^{2} - 2\\right) + 1\\right) - 3\\right)}{30} + C_{1} + C_{1} x^{2} \\left(C_{1}^{2} - 1\\right) + \\frac{C_{1} x^{4} \\left(2 \\left(C_{1}^{2} - 1\\right) \\left(3 C_{1}^{2} - 2\\right) + 1\\right)}{6} + O\\left(x^{6}\\right)$"
      ],
      "text/plain": [
       "                      3 ⎛⎛  2    ⎞ ⎛    2    ⎞    ⎞    5 ⎛    2   ⎛  2    ⎞ ⎛ \n",
       "         ⎛  2    ⎞   x ⋅⎝⎝C₁  - 1⎠⋅⎝3⋅C₁  - 1⎠ + 1⎠   x ⋅⎝5⋅C₁  + ⎝C₁  - 1⎠⋅⎝4\n",
       "y(x) = x⋅⎝C₁  - 1⎠ + ────────────────────────────── + ────────────────────────\n",
       "                                   3                                          \n",
       "\n",
       "   2 ⎛    2    ⎞     ⎛  2    ⎞ ⎛    2    ⎞    ⎞    ⎞                          \n",
       "⋅C₁ ⋅⎝3⋅C₁  - 2⎠ + 2⋅⎝C₁  - 1⎠⋅⎝9⋅C₁  - 2⎠ + 1⎠ - 3⎠            2 ⎛  2    ⎞   \n",
       "──────────────────────────────────────────────────── + C₁ + C₁⋅x ⋅⎝C₁  - 1⎠ + \n",
       "             30                                                               \n",
       "\n",
       "    4 ⎛  ⎛  2    ⎞ ⎛    2    ⎞    ⎞        \n",
       "C₁⋅x ⋅⎝2⋅⎝C₁  - 1⎠⋅⎝3⋅C₁  - 2⎠ + 1⎠    ⎛ 6⎞\n",
       "─────────────────────────────────── + O⎝x ⎠\n",
       "                 6                         "
      ]
     },
     "execution_count": 7,
     "metadata": {},
     "output_type": "execute_result"
    }
   ],
   "source": [
    "# Solución con serie de potencias\n",
    "f = y(x)**2 + x**2 -1\n",
    "sympy.dsolve(y(x).diff(x) - f)"
   ]
  },
  {
   "cell_type": "markdown",
   "metadata": {},
   "source": [
    "### Campos de direcciones"
   ]
  },
  {
   "cell_type": "markdown",
   "metadata": {},
   "source": [
    "Los [Campos de direcciones](https://es.wikipedia.org/wiki/Campo_de_direcciones) es una técnica sencilla pero útil para visualizar posibles soluciones a las [ecuaciones diferenciales de primer orden](https://es.wikipedia.org/wiki/Ecuaci%C3%B3n_diferencial_ordinaria_de_primer_orden). Se compone de líneas cortas que muestran la pendiente de la función incógnita en el plano x-y. Este gráfico se puede producir fácilmente debido a que la pendiente de $y(x)$ en los puntos arbitrarios del plano x-y está dada por la definición misma de la [Ecuación diferencial ordinaria](https://es.wikipedia.org/wiki/Ecuaci%C3%B3n_diferencial_ordinaria):\n",
    "\n",
    "$$\\frac{dy}{dx} = f(x, y(x))$$\n",
    "\n",
    "Es decir, que sólo tenemos que iterar sobre los valores $x$ e $y$ en la grilla de coordenadas de interés y evaluar $f(x, y(x))$ para saber la pendiente de $y(x)$ en ese punto. Cuantos más segmentos de líneas trazamos en un [Campo de dirección](https://es.wikipedia.org/wiki/Campo_de_direcciones), más clara será la imagen. La razón por la cual el gráfico de [Campos de direcciones](https://es.wikipedia.org/wiki/Campo_de_direcciones) es útil, es que las curvas suaves y continuos que son <a href=\"https://es.wikipedia.org/wiki/Tangente_(geometr%C3%ADa)\">tangentes</a> a las líneas de pendiente en cada punto del gráfico, son las posibles soluciones a la [Ecuación diferencial ordinaria](https://es.wikipedia.org/wiki/Ecuaci%C3%B3n_diferencial_ordinaria).\n",
    "\n",
    "Por supuesto que calcular las pendientes y dibujar los segmentos de línea para un gran número de puntos a mano sería algo realmente tedioso, pero para eso existen las computadoras y [Python](https://www.python.org/)!. Veamos un ejemplo, supongamos que tenemos la siguiente [Ecuación diferencial ordinaria](https://es.wikipedia.org/wiki/Ecuaci%C3%B3n_diferencial_ordinaria), la cual según lo que vimos más arriba, sabemos que no tiene una solución analítica:\n",
    "\n",
    "$$\\frac{dy}{dx} = x^2 + y^2 -1$$\n",
    "\n",
    "entonces, con la ayuda de [Python](https://www.python.org/), podemos graficar su [Campo de dirección](https://es.wikipedia.org/wiki/Campo_de_direcciones) del siguiente modo:"
   ]
  },
  {
   "cell_type": "code",
   "execution_count": 8,
   "metadata": {},
   "outputs": [],
   "source": [
    "# <!-- collapse=True -->\n",
    "def plot_direction_field(x, y_x, f_xy, x_lim=(-5, 5), y_lim=(-5, 5), ax=None):\n",
    "    \"\"\"Esta función dibuja el campo de dirección de una EDO\"\"\"\n",
    "    \n",
    "    f_np = sympy.lambdify((x, y_x), f_xy, modules='numpy')\n",
    "    x_vec = np.linspace(x_lim[0], x_lim[1], 20)\n",
    "    y_vec = np.linspace(y_lim[0], y_lim[1], 20)\n",
    "    \n",
    "    if ax is None:\n",
    "        _, ax = plt.subplots(figsize=(4, 4))\n",
    "    \n",
    "    dx = x_vec[1] - x_vec[0]\n",
    "    dy = y_vec[1] - y_vec[0]\n",
    "    \n",
    "    for m, xx in enumerate(x_vec):\n",
    "        for n, yy in enumerate(y_vec):\n",
    "            Dy = f_np(xx, yy) * dx\n",
    "            Dx = 0.8 * dx**2 / np.sqrt(dx**2 + Dy**2)\n",
    "            Dy = 0.8 * Dy*dy / np.sqrt(dx**2 + Dy**2)\n",
    "            ax.plot([xx - Dx/2, xx + Dx/2],\n",
    "                    [yy - Dy/2, yy + Dy/2], 'b', lw=0.5)\n",
    "    \n",
    "    ax.axis('tight')\n",
    "    ax.set_title(r\"$%s$\" %\n",
    "                 (sympy.latex(sympy.Eq(y(x).diff(x), f_xy))),\n",
    "                 fontsize=18)\n",
    "    \n",
    "    return ax"
   ]
  },
  {
   "cell_type": "code",
   "execution_count": 9,
   "metadata": {},
   "outputs": [
    {
     "data": {
      "image/png": "[encoded data removed]",
      "text/plain": [
       "<Figure size 576x432 with 1 Axes>"
      ]
     },
     "metadata": {
      "needs_background": "light"
     },
     "output_type": "display_data"
    }
   ],
   "source": [
    "# Defino incognitas\n",
    "x = sympy.symbols('x')\n",
    "y = sympy.Function('y')\n",
    "\n",
    "# Defino la función\n",
    "f = y(x)**2 + x**2 -1\n",
    "\n",
    "# grafico de campo de dirección\n",
    "fig, axes = plt.subplots(1, 1, figsize=(8, 6))\n",
    "campo_dir = plot_direction_field(x, y(x), f, ax=axes)"
   ]
  },
  {
   "cell_type": "markdown",
   "metadata": {
    "collapsed": true
   },
   "source": [
    "Las líneas de dirección en el gráfico de arriba sugieren cómo las curvas que son soluciones a la [Ecuación diferencial ordinaria](https://es.wikipedia.org/wiki/Ecuaci%C3%B3n_diferencial_ordinaria) se van a comportar. Por lo tanto, los [Campos de direcciones](https://es.wikipedia.org/wiki/Campo_de_direcciones) son una herramienta muy útil para visualizar posibles soluciones para [Ecuaciones diferenciales ordinarias](https://es.wikipedia.org/wiki/Ecuaci%C3%B3n_diferencial_ordinaria)  que no se pueden resolver analíticamente. Este gráfico, también nos puede ayudar a determinar el rango de validez de la solución aproximada por la [Serie de potencias](https://es.wikipedia.org/wiki/Serie_de_potencias). Por ejemplo si resolvemos nuestra [EDO](https://es.wikipedia.org/wiki/Ecuaci%C3%B3n_diferencial_ordinaria) para la condición inicial $y(0) = 0$, veamos a que conclusiones arribamos."
   ]
  },
  {
   "cell_type": "code",
   "execution_count": 10,
   "metadata": {},
   "outputs": [
    {
     "data": {
      "text/latex": [
       "$\\displaystyle y{\\left(x \\right)} = - x + \\frac{2 x^{3}}{3} - \\frac{4 x^{5}}{15} + O\\left(x^{6}\\right)$"
      ],
      "text/plain": [
       "               3      5        \n",
       "            2⋅x    4⋅x     ⎛ 6⎞\n",
       "y(x) = -x + ──── - ──── + O⎝x ⎠\n",
       "             3      15         "
      ]
     },
     "execution_count": 10,
     "metadata": {},
     "output_type": "execute_result"
    }
   ],
   "source": [
    "# Condición inicial\n",
    "ics = {y(0): 0}\n",
    "\n",
    "# Resolviendo la ecuación diferencial\n",
    "edo_sol = sympy.dsolve(y(x).diff(x) - f, ics=ics)\n",
    "edo_sol"
   ]
  },
  {
   "cell_type": "code",
   "execution_count": 11,
   "metadata": {},
   "outputs": [
    {
     "name": "stderr",
     "output_type": "stream",
     "text": [
      "<string>:2: RuntimeWarning: invalid value encountered in add\n",
      "<string>:2: RuntimeWarning: invalid value encountered in multiply\n",
      "<string>:2: RuntimeWarning: invalid value encountered in add\n",
      "<string>:2: RuntimeWarning: invalid value encountered in add\n",
      "<string>:2: RuntimeWarning: invalid value encountered in add\n",
      "<string>:2: RuntimeWarning: invalid value encountered in add\n",
      "<string>:2: RuntimeWarning: invalid value encountered in add\n",
      "<string>:2: RuntimeWarning: invalid value encountered in add\n",
      "<string>:2: RuntimeWarning: invalid value encountered in add\n",
      "<string>:2: RuntimeWarning: invalid value encountered in multiply\n",
      "<string>:2: RuntimeWarning: invalid value encountered in add\n",
      "<string>:2: RuntimeWarning: invalid value encountered in add\n",
      "<string>:2: RuntimeWarning: invalid value encountered in add\n",
      "<string>:2: RuntimeWarning: invalid value encountered in add\n",
      "<string>:2: RuntimeWarning: invalid value encountered in add\n",
      "<string>:2: RuntimeWarning: invalid value encountered in add\n",
      "<string>:2: RuntimeWarning: invalid value encountered in add\n",
      "<string>:2: RuntimeWarning: invalid value encountered in add\n"
     ]
    },
    {
     "data": {
      "image/png": "[encoded data removed]",
      "text/plain": [
       "<Figure size 720x360 with 2 Axes>"
      ]
     },
     "metadata": {
      "needs_background": "light"
     },
     "output_type": "display_data"
    }
   ],
   "source": [
    "fig, axes = plt.subplots(1, 2, figsize=(10, 5))\n",
    "\n",
    "# panel izquierdo - solución aproximada por Serie de potencias\n",
    "plot_direction_field(x, y(x), f, ax=axes[0])\n",
    "x_vec = np.linspace(-3, 3, 100)\n",
    "axes[0].plot(x_vec, sympy.lambdify(x, edo_sol.rhs.removeO())(x_vec),\n",
    "             'b', lw=2)\n",
    "\n",
    "# panel derecho - Solución por método iterativo\n",
    "plot_direction_field(x, y(x), f, ax=axes[1])\n",
    "x_vec = np.linspace(-1, 1, 100)\n",
    "axes[1].plot(x_vec, sympy.lambdify(x, edo_sol.rhs.removeO())(x_vec),\n",
    "             'b', lw=2)\n",
    "\n",
    "# Resolviendo la EDO en forma iterativa \n",
    "edo_sol_m = edo_sol_p = edo_sol\n",
    "dx = 0.125\n",
    "\n",
    "# x positivos\n",
    "for x0 in np.arange(1, 2., dx):\n",
    "    x_vec = np.linspace(x0, x0 + dx, 100)\n",
    "    ics = {y(x0): edo_sol_p.rhs.removeO().subs(x, x0)}\n",
    "    edo_sol_p = sympy.dsolve(y(x).diff(x) - f, ics=ics, n=6)\n",
    "    axes[1].plot(x_vec, sympy.lambdify(x, edo_sol_p.rhs.removeO())(x_vec),\n",
    "                 'r', lw=2)\n",
    "\n",
    "# x negativos\n",
    "for x0 in np.arange(1, 5, dx):\n",
    "    x_vec = np.linspace(-x0-dx, -x0, 100)\n",
    "    ics = {y(-x0): edo_sol_m.rhs.removeO().subs(x, -x0)}\n",
    "    edo_sol_m = sympy.dsolve(y(x).diff(x) - f, ics=ics, n=6)\n",
    "    axes[1].plot(x_vec, sympy.lambdify(x, edo_sol_m.rhs.removeO())(x_vec),\n",
    "                 'r', lw=2)"
   ]
  },
  {
   "cell_type": "markdown",
   "metadata": {
    "collapsed": true
   },
   "source": [
    "En el panel de la izquierda podemos ver el gráfico de la solución aproximada por la [Serie de potencias](https://es.wikipedia.org/wiki/Serie_de_potencias); en el panel de la derecha vemos el gráfico al que podemos arribar resolviendo la [EDO](https://es.wikipedia.org/wiki/Ecuaci%C3%B3n_diferencial_ordinaria) para valores incrementales de $x$ para la condición inicial en forma iterativa. Como podemos ver, las solución aproximada se alinea bien con el [campo de direcciones](https://es.wikipedia.org/wiki/Campo_de_direcciones) para los valores de $x$ entre $-1.5$ y $1.5$, luego comienza a desviarse, lo que nos indica que la solución aproximada ya no sería válida. En el panel de la derecha podemos ver una solución que se adapta mucho mejor con el [campo de direcciones](https://es.wikipedia.org/wiki/Campo_de_direcciones)."
   ]
  },
  {
   "cell_type": "markdown",
   "metadata": {},
   "source": [
    "### Transformada de Laplace\n",
    "\n",
    "Un método alternativo que podemos utilizar para resolver en forma analítica [Ecuaciones diferenciales ordinarias](https://es.wikipedia.org/wiki/Ecuaci%C3%B3n_diferencial_ordinaria) complejas, es utilizar la [Transformada de Laplace](https://es.wikipedia.org/wiki/Transformada_de_Laplace), que es un tipo particular de [transformada integral](https://es.wikipedia.org/wiki/Transformada_integral). La idea es que podemos utilizar esta técnica para transformar nuestra [Ecuación diferencial](https://es.wikipedia.org/wiki/Ecuaci%C3%B3n_diferencial) en algo más simple, resolver esta ecuación más simple y, a continuación, invertir la transformación para recuperar la solución a la [Ecuación diferencial](https://es.wikipedia.org/wiki/Ecuaci%C3%B3n_diferencial) original.\n",
    "\n",
    "#### ¿Qué es una Transformada de Laplace?\n",
    "\n",
    "Para poder comprender la [Transformada de Laplace](https://es.wikipedia.org/wiki/Transformada_de_Laplace), primero debemos revisar la definición general de la [transformada integral](https://es.wikipedia.org/wiki/Transformada_integral), la cuál adapta la siguiente forma:\n",
    "\n",
    "$$T(f(t)) = \\int_{\\alpha}^{\\beta} K (s, t) \\ f(t) \\ dt = F(s) $$\n",
    "\n",
    "En este caso, $f(t)$ es la función que queremos transformar, y $F(s)$ es la función transformada. Los límites de la integración, $\\alpha$ y $\\beta$, pueden ser cualquier valor entre $-\\infty$ y $+\\infty$ y $K(s, t)$ es lo que se conoce como el *núcleo* o *kernel* de la transformada, y podemos elegir el *kernel* que nos plazca.  La idea es poder elegir un *kernel* que nos dé la oportunidad de simplificar la [Ecuación diferencial](https://es.wikipedia.org/wiki/Ecuaci%C3%B3n_diferencial) con mayor facilidad.\n",
    "\n",
    "Si nos restringimos a [Ecuaciones diferenciales](https://es.wikipedia.org/wiki/Ecuaci%C3%B3n_diferencial) con *coeficientes* constantes, entonces un *kernel* que resulta realmente útil es $e^{-st}$, ya que al [diferenciar](https://es.wikipedia.org/wiki/C%C3%A1lculo_diferencial) este *kernel* con respecto de $t$, terminamos obteniendo potencias de $s$, que podemos equiparar a los *coeficientes* constantes. De esta forma, podemos arribar a la definición de la [Transformada de Laplace](https://es.wikipedia.org/wiki/Transformada_de_Laplace):\n",
    "\n",
    "$$\\mathcal{L}\\{f(t)\\}=\\int_0^{\\infty} e^{-st} \\ f(t) \\ dt$$\n",
    "\n",
    "Tengan en cuenta, que además de usar el *kernel* $e^{-st}$, los límites de la integración van desde $0$ a $\\infty$, ya que valores negativos de $t$ harían [divergir](https://es.wikipedia.org/wiki/Serie_divergente) la [integral](https://es.wikipedia.org/wiki/Integraci%C3%B3n).\n",
    "\n",
    "#### Tabla de transformadas de Laplace\n",
    "\n",
    "Calcular la [Transformada de Laplace](https://es.wikipedia.org/wiki/Transformada_de_Laplace) a veces puede resultar en una tarea complicada. Por suerte, podemos recurrir a la siguiente tabla para resolver la [Transformada de Laplace](https://es.wikipedia.org/wiki/Transformada_de_Laplace) para las funciones más comunes:\n",
    "\n",
    "<table>\n",
    "<thead><tr>\n",
    "<th style=\"text-align:center\">Función original</th>\n",
    "<th style=\"text-align:center\">Transformada de Laplace</th>\n",
    "<th style=\"text-align:center\">Restricciones</th>\n",
    "</tr>\n",
    "</thead>\n",
    "<tbody>\n",
    "<tr>\n",
    "<td style=\"text-align:center\">$1$</td>\n",
    "<td style=\"text-align:center\">$\\frac{1}{s}$</td>\n",
    "<td style=\"text-align:center\">$s>0$</td>\n",
    "</tr>\n",
    "<tr>\n",
    "<td style=\"text-align:center\">$e^{at}$</td>\n",
    "<td style=\"text-align:center\">$\\frac{1}{s -a}$</td>\n",
    "<td style=\"text-align:center\">$s>a$</td>\n",
    "</tr>\n",
    "<tr>\n",
    "<td style=\"text-align:center\">$t^n$</td>\n",
    "<td style=\"text-align:center\">$\\frac{n!}{s^{n+1}}$</td>\n",
    "<td style=\"text-align:center\">$s>0$, $n$ un entero $> 0$</td>\n",
    "</tr>\n",
    "<tr>\n",
    "<td style=\"text-align:center\">$\\cos at$</td>\n",
    "<td style=\"text-align:center\">$\\frac{s}{s^2 + a^2}$</td>\n",
    "<td style=\"text-align:center\">$s>0$</td>\n",
    "</tr>\n",
    "<tr>\n",
    "<td style=\"text-align:center\">$\\sin at$</td>\n",
    "<td style=\"text-align:center\">$\\frac{a}{s^2 + a^2}$</td>\n",
    "<td style=\"text-align:center\">$s>0$</td>\n",
    "</tr>\n",
    "<tr>\n",
    "<td style=\"text-align:center\">$\\cosh at$</td>\n",
    "<td style=\"text-align:center\">$\\frac{s}{s^2 - a^2}$</td>\n",
    "<td style=\"text-align:center\">$s>|a|$</td>\n",
    "</tr>\n",
    "<tr>\n",
    "<td style=\"text-align:center\">$\\sinh at$</td>\n",
    "<td style=\"text-align:center\">$\\frac{a}{s^2 - a^2}$</td>\n",
    "<td style=\"text-align:center\">$s>|a|$</td>\n",
    "</tr>\n",
    "<tr>\n",
    "<td style=\"text-align:center\">$e^{at}\\cos bt$</td>\n",
    "<td style=\"text-align:center\">$\\frac{s- a}{(s^2 - a^2) + b^2}$</td>\n",
    "<td style=\"text-align:center\">$s>a$</td>\n",
    "</tr>\n",
    "<tr>\n",
    "<td style=\"text-align:center\">$e^{at}\\sin bt$</td>\n",
    "<td style=\"text-align:center\">$\\frac{b}{(s^2 - a^2) + b^2}$</td>\n",
    "<td style=\"text-align:center\">$s>a$</td>\n",
    "</tr>\n",
    "<tr>\n",
    "<td style=\"text-align:center\">$t^n e^{at}$</td>\n",
    "<td style=\"text-align:center\">$\\frac{n!}{(s-a)^{n+1}}$</td>\n",
    "<td style=\"text-align:center\">$s>a$, $n$ un entero $> 0$</td>\n",
    "</tr>\n",
    "<tr>\n",
    "<td style=\"text-align:center\">$f(ct)$</td>\n",
    "<td style=\"text-align:center\">$\\frac{1}{c}\\mathcal{L}\\{f(s/c)\\}$</td>\n",
    "<td style=\"text-align:center\">$c>0$</td>\n",
    "</tr>\n",
    "</tbody>\n",
    "</table>\n",
    "\n",
    "\n",
    "#### Propiedades de las transformadas de Laplace\n",
    "\n",
    "Las [Transformadas de Laplace](https://es.wikipedia.org/wiki/Transformada_de_Laplace) poseen algunas propiedades que también nos van a facilitar el trabajo de resolverlas, algunas de ellas son:\n",
    "\n",
    "* ***La [Transformada de Laplace](https://es.wikipedia.org/wiki/Transformada_de_Laplace) es un operador lineal***: Esta propiedad nos dice la [Transformada de Laplace](https://es.wikipedia.org/wiki/Transformada_de_Laplace) de una suma, es igual a la suma de las [Transformadas de Laplace](https://es.wikipedia.org/wiki/Transformada_de_Laplace) de cada uno de los términos. Es decir:\n",
    "\n",
    "\n",
    "$$\\mathcal{L}\\{c_1f_1(t) + c_2f_2(t)\\}=c_1\\mathcal{L}\\{f_1(t)\\} + c_2\\mathcal{L}\\{f_2(t)\\}$$\n",
    "\n",
    "\n",
    "* ***La [Transformada de Laplace](https://es.wikipedia.org/wiki/Transformada_de_Laplace) de la primer derivada***: Esta propiedad nos dice que si $f(t)$ es continua y $f'(t)$ es continua en el intervalo $0 \\le t \\le \\alpha$. Entonces la [Transformada de Laplace](https://es.wikipedia.org/wiki/Transformada_de_Laplace) de la primer derivada es:\n",
    "\n",
    "\n",
    "$$\\mathcal{L}\\{f'(t)\\} = s\\mathcal{L}\\{f(t)\\} - f(0)$$\n",
    "\n",
    "\n",
    "* ***La [Transformada de Laplace](https://es.wikipedia.org/wiki/Transformada_de_Laplace) de derivadas de orden superior***: Esta propiedad es la generalización de la propiedad anterior para derivadas de orden n. Su formula es:\n",
    "\n",
    "\n",
    "$$\\mathcal{L}\\{f^{(n)}(t)\\} = s^n\\mathcal{L}\\{f(t)\\} - s^{n-1}f(0) - \\dots -f^{(n-1)}(0) \\\\\n",
    "= s^n\\mathcal{L}\\{f(t)\\} - \\sum_{i=1}^n s^{n-i}f^{(i-1)}(0)$$\n",
    "\n",
    "\n",
    "\n",
    "#### Resolviendo ecuaciones diferenciales con la transformada de Laplace\n",
    "\n",
    "La principal ventaja de utilizar [Transformadas de Laplace](https://es.wikipedia.org/wiki/Transformada_de_Laplace) es que cambia la [Ecuación diferencial](https://es.wikipedia.org/wiki/Ecuaci%C3%B3n_diferencial) en una [ecuación algebraica](https://es.wikipedia.org/wiki/Ecuaci%C3%B3n_algebraica), lo que simplifica el proceso para calcular su solución. La única parte complicada es encontrar las transformaciones y las inversas de las transformaciones de los varios términos de la [Ecuación diferencial](https://es.wikipedia.org/wiki/Ecuaci%C3%B3n_diferencial) que queramos resolver. Veamos entonces como [Python](https://www.python.org/) y [SymPy](http://www.sympy.org/es/) nos ayudan a resolver [Ecuaciones diferenciales](https://es.wikipedia.org/wiki/Ecuaci%C3%B3n_diferencial) utilizando las [Transformadas de Laplace](https://es.wikipedia.org/wiki/Transformada_de_Laplace). Vamos a intentar resolver la siguiente ecuación:\n",
    "\n",
    "$$y'' + 3y' + 2y = 0$$\n",
    "\n",
    "con las siguientes condiciones iniciales: $y(0) = 2$ y $y'(0) = -3$"
   ]
  },
  {
   "cell_type": "code",
   "execution_count": 12,
   "metadata": {},
   "outputs": [
    {
     "name": "stderr",
     "output_type": "stream",
     "text": [
      "C:\\Users\\Lenovo\\Anaconda3\\lib\\site-packages\\sympy\\core\\relational.py:499: SymPyDeprecationWarning: \n",
      "\n",
      "Eq(expr) with rhs default to 0 has been deprecated since SymPy 1.5.\n",
      "Use Eq(expr, 0) instead. See\n",
      "https://github.com/sympy/sympy/issues/16587 for more info.\n",
      "\n",
      "  deprecated_since_version=\"1.5\"\n"
     ]
    },
    {
     "data": {
      "text/latex": [
       "$\\displaystyle 2 y{\\left(t \\right)} + 3 \\frac{d}{d t} y{\\left(t \\right)} + \\frac{d^{2}}{d t^{2}} y{\\left(t \\right)} = 0$"
      ],
      "text/plain": [
       "                        2          \n",
       "           d           d           \n",
       "2⋅y(t) + 3⋅──(y(t)) + ───(y(t)) = 0\n",
       "           dt           2          \n",
       "                      dt           "
      ]
     },
     "execution_count": 12,
     "metadata": {},
     "output_type": "execute_result"
    }
   ],
   "source": [
    "# Ejemplo de transformada de Laplace\n",
    "# Defino las incognitas\n",
    "t = sympy.symbols(\"t\", positive=True)\n",
    "y = sympy.Function(\"y\")\n",
    "\n",
    "# Defino la ecuación\n",
    "edo = y(t).diff(t, t) + 3*y(t).diff(t) + 2*y(t)\n",
    "sympy.Eq(edo)"
   ]
  },
  {
   "cell_type": "code",
   "execution_count": 13,
   "metadata": {},
   "outputs": [],
   "source": [
    "# simbolos adicionales.\n",
    "s, Y = sympy.symbols(\"s, Y\", real=True)"
   ]
  },
  {
   "cell_type": "code",
   "execution_count": 14,
   "metadata": {},
   "outputs": [
    {
     "data": {
      "text/latex": [
       "$\\displaystyle 2 \\mathcal{L}_{t}\\left[y{\\left(t \\right)}\\right]\\left(s\\right) + 3 \\mathcal{L}_{t}\\left[\\frac{d}{d t} y{\\left(t \\right)}\\right]\\left(s\\right) + \\mathcal{L}_{t}\\left[\\frac{d^{2}}{d t^{2}} y{\\left(t \\right)}\\right]\\left(s\\right) = 0$"
      ],
      "text/plain": [
       "                                                                              \n",
       "                                                   ⎛d             ⎞           \n",
       "2⋅LaplaceTransform(y(t), t, s) + 3⋅LaplaceTransform⎜──(y(t)), t, s⎟ + LaplaceT\n",
       "                                                   ⎝dt            ⎠           \n",
       "                                                                              \n",
       "\n",
       "        ⎛  2            ⎞    \n",
       "        ⎜ d             ⎟    \n",
       "ransform⎜───(y(t)), t, s⎟ = 0\n",
       "        ⎜  2            ⎟    \n",
       "        ⎝dt             ⎠    "
      ]
     },
     "execution_count": 14,
     "metadata": {},
     "output_type": "execute_result"
    }
   ],
   "source": [
    "# Calculo la transformada de Laplace \n",
    "L_edo = sympy.laplace_transform(edo, t, s, noconds=True)\n",
    "sympy.Eq(L_edo)"
   ]
  },
  {
   "cell_type": "markdown",
   "metadata": {},
   "source": [
    "Como podemos ver en este resultado, al aplicar la función `sympy.laplace_transform` sobre la [derivada](https://es.wikipedia.org/wiki/Derivada) de $y(t)$, [SymPy](http://www.sympy.org/es/) nos devuelve un termino con la forma $\\mathcal{L}_{t}\\left[\\frac{d}{d t} y{\\left (t \\right )}\\right]\\left(s\\right)$. Esto es una complicación si queremos arribar a una [ecuación algebraica](https://es.wikipedia.org/wiki/Ecuaci%C3%B3n_algebraica). Por tanto antes de proceder, deberíamos utilizar la siguiente función para resolver este inconveniente."
   ]
  },
  {
   "cell_type": "code",
   "execution_count": 15,
   "metadata": {},
   "outputs": [],
   "source": [
    "def laplace_transform_derivatives(e):\n",
    "    \"\"\"\n",
    "    Evalua las transformadas de Laplace de derivadas de funciones sin evaluar.\n",
    "    \"\"\"\n",
    "    if isinstance(e, sympy.LaplaceTransform):\n",
    "        if isinstance(e.args[0], sympy.Derivative):\n",
    "            d, t, s = e.args \n",
    "            n = len(d.args) - 1\n",
    "            return ((s**n) * sympy.LaplaceTransform(d.args[0], t, s) -\n",
    "                    sum([s**(n-i) * sympy.diff(d.args[0], t, i-1).subs(t, 0)\n",
    "                         for i in range(1, n+1)]))\n",
    "        \n",
    "    if isinstance(e, (sympy.Add, sympy.Mul)):\n",
    "        t = type(e) \n",
    "        return t(*[laplace_transform_derivatives(arg) for arg in e.args])\n",
    "    \n",
    "    return e"
   ]
  },
  {
   "cell_type": "code",
   "execution_count": 16,
   "metadata": {},
   "outputs": [
    {
     "data": {
      "text/latex": [
       "$\\displaystyle 4 s \\mathcal{L}_{t}\\left[y{\\left(t \\right)}\\right]\\left(s\\right) + 2 \\mathcal{L}_{t}\\left[y{\\left(t \\right)}\\right]\\left(s\\right) - 4 y{\\left(0 \\right)} = 0$"
      ],
      "text/plain": [
       "4⋅s⋅LaplaceTransform(y(t), t, s) + 2⋅LaplaceTransform(y(t), t, s) - 4⋅y(0) = 0"
      ]
     },
     "execution_count": 16,
     "metadata": {},
     "output_type": "execute_result"
    }
   ],
   "source": [
    "# Aplicamos la nueva funcion para evaluar las transformadas de Laplace\n",
    "# de derivadas\n",
    "L_edo_2 = laplace_transform_derivatives(L_edo)\n",
    "sympy.Eq(L_edo_2)"
   ]
  },
  {
   "cell_type": "code",
   "execution_count": 17,
   "metadata": {},
   "outputs": [
    {
     "data": {
      "text/latex": [
       "$\\displaystyle 4 Y s + 2 Y - 4 y{\\left(0 \\right)} = 0$"
      ],
      "text/plain": [
       "4⋅Y⋅s + 2⋅Y - 4⋅y(0) = 0"
      ]
     },
     "execution_count": 17,
     "metadata": {},
     "output_type": "execute_result"
    }
   ],
   "source": [
    "# reemplazamos la transfomada de Laplace de y(t) por la incognita Y\n",
    "# para facilitar la lectura de la ecuación.\n",
    "L_edo_3 = L_edo_2.subs(sympy.laplace_transform(y(t), t, s), Y)\n",
    "sympy.Eq(L_edo_3)"
   ]
  },
  {
   "cell_type": "code",
   "execution_count": 18,
   "metadata": {},
   "outputs": [
    {
     "data": {
      "text/latex": [
       "$\\displaystyle \\left\\{ y{\\left(0 \\right)} : 2, \\  \\left. \\frac{d}{d t} y{\\left(t \\right)} \\right|_{\\substack{ t=0 }} : -3\\right\\}$"
      ],
      "text/plain": [
       "⎧         ⎛d       ⎞│       ⎫\n",
       "⎨y(0): 2, ⎜──(y(t))⎟│   : -3⎬\n",
       "⎩         ⎝dt      ⎠│t=0    ⎭"
      ]
     },
     "execution_count": 18,
     "metadata": {},
     "output_type": "execute_result"
    }
   ],
   "source": [
    "# Definimos las condiciones iniciales\n",
    "ics = {y(0): 2, y(t).diff(t).subs(t, 0): -3}\n",
    "ics"
   ]
  },
  {
   "cell_type": "code",
   "execution_count": 19,
   "metadata": {},
   "outputs": [
    {
     "data": {
      "text/latex": [
       "$\\displaystyle 4 Y s + 2 Y - 8$"
      ],
      "text/plain": [
       "4⋅Y⋅s + 2⋅Y - 8"
      ]
     },
     "execution_count": 19,
     "metadata": {},
     "output_type": "execute_result"
    }
   ],
   "source": [
    "# Aplicamos las condiciones iniciales\n",
    "L_edo_4 = L_edo_3.subs(ics)\n",
    "L_edo_4"
   ]
  },
  {
   "cell_type": "code",
   "execution_count": 20,
   "metadata": {},
   "outputs": [
    {
     "data": {
      "text/latex": [
       "$\\displaystyle \\left[ \\frac{4}{2 s + 1}\\right]$"
      ],
      "text/plain": [
       "⎡   4   ⎤\n",
       "⎢───────⎥\n",
       "⎣2⋅s + 1⎦"
      ]
     },
     "execution_count": 20,
     "metadata": {},
     "output_type": "execute_result"
    }
   ],
   "source": [
    "# Resolvemos la ecuación y arribamos a la Transformada de Laplace\n",
    "# que es equivalente a nuestra ecuación diferencial\n",
    "Y_sol = sympy.solve(L_edo_4, Y)\n",
    "Y_sol"
   ]
  },
  {
   "cell_type": "code",
   "execution_count": 21,
   "metadata": {},
   "outputs": [
    {
     "data": {
      "text/latex": [
       "$\\displaystyle 2 e^{- \\frac{t}{2}}$"
      ],
      "text/plain": [
       "   -t \n",
       "   ───\n",
       "    2 \n",
       "2⋅ℯ   "
      ]
     },
     "execution_count": 21,
     "metadata": {},
     "output_type": "execute_result"
    }
   ],
   "source": [
    "# Por último, calculamos al inversa de la Transformada de Laplace que \n",
    "# obtuvimos arriba, para obtener la solución de nuestra ecuación diferencial.\n",
    "y_sol = sympy.inverse_laplace_transform(Y_sol[0], s, t)\n",
    "y_sol"
   ]
  },
  {
   "cell_type": "code",
   "execution_count": 22,
   "metadata": {},
   "outputs": [
    {
     "data": {
      "text/latex": [
       "$\\displaystyle \\left( 2, \\  -1\\right)$"
      ],
      "text/plain": [
       "(2, -1)"
      ]
     },
     "execution_count": 22,
     "metadata": {},
     "output_type": "execute_result"
    }
   ],
   "source": [
    "# Comprobamos la solución.\n",
    "y_sol.subs(t, 0), sympy.diff(y_sol).subs(t, 0)"
   ]
  },
  {
   "cell_type": "markdown",
   "metadata": {},
   "source": [
    "Como podemos ver [Transformadas de Laplace](https://es.wikipedia.org/wiki/Transformada_de_Laplace), pueden ser una buena alternativa para resolver [Ecuaciones diferenciales](https://es.wikipedia.org/wiki/Ecuaci%C3%B3n_diferencial) en forma analítica. Pero aún así, siguen existiendo ecuaciones que se resisten a ser resueltas por medios analíticos, para estos casos, debemos recurrir a los métodos numéricos."
   ]
  },
  {
   "cell_type": "markdown",
   "metadata": {},
   "source": [
    "### Métodos numéricos"
   ]
  },
  {
   "cell_type": "markdown",
   "metadata": {},
   "source": [
    "Cuando todo lo demás falla, llegan los métodos numéricos al rescate; siempre vamos a poder calcular una aproximación numérica a una solución de una [Ecuación diferencial](https://es.wikipedia.org/wiki/Ecuaci%C3%B3n_diferencial). De éstos métodos ya no vamos a obtener las formulas elegantes y acabadas que veníamos viendo, sino que vamos a obtener números.\n",
    "Existen muchos enfoques para resolver [ecuaciones diferenciales ordinarias](https://es.wikipedia.org/wiki/Ecuaci%C3%B3n_diferencial_ordinaria) en forma numérica, y generalmente están diseñados para resolver problemas que están formulados como un sistema de [ecuaciones diferenciales de primer orden](https://es.wikipedia.org/wiki/Ecuaci%C3%B3n_diferencial_ordinaria_de_primer_orden) de la forma estándar:\n",
    "\n",
    "$$ \\frac{dy}{dx} = f(x, y(x))$$\n",
    "\n",
    "donde $y(x)$ es un *[vector](http://es.wikipedia.org/wiki/Vector)* de la funciones incógnitas de $x$.\n",
    "\n",
    "La idea básica de muchos de los métodos numéricos para resolver [ecuaciones diferenciales ordinarias](https://es.wikipedia.org/wiki/Ecuaci%C3%B3n_diferencial_ordinaria) es capturada por el **[Método de Euler](https://es.wikipedia.org/wiki/M%C3%A9todo_de_Euler)**, veamos de que se trata este método."
   ]
  },
  {
   "cell_type": "markdown",
   "metadata": {},
   "source": [
    "#### El Método de Euler"
   ]
  },
  {
   "cell_type": "markdown",
   "metadata": {},
   "source": [
    "Para entender este método, revisemos nuevamente la siguiente [Ecuación diferencial](https://es.wikipedia.org/wiki/Ecuaci%C3%B3n_diferencial):\n",
    "\n",
    "$$ \\frac{dy}{dx} = f(x, y(x))$$\n",
    "\n",
    "El [Método de Euler](https://es.wikipedia.org/wiki/M%C3%A9todo_de_Euler) señala que puede que no tengamos la función real que representa la solución a la [Ecuación diferencial](https://es.wikipedia.org/wiki/Ecuaci%C3%B3n_diferencial) precedente. Sin embargo, si poseemos la pendiente de la curva en cualquier punto. Es decir, el *ritmo de cambio* de la curva, que no es otra cosa que su [derivada](https://es.wikipedia.org/wiki/Derivada), la cual podemos utilizar para iterar sobre soluciones en distintos puntos. \n",
    "\n",
    "Supongamos entonces que tenemos el punto $(x_0, y_0)$, que se encuentra en la *curva solución*. Dada la definición de la ecuación que estamos analizando, sabemos que la pendiente de la *curva solución*  en ese punto es $f(x_0, y_0)$. ¿Qué pasaría entonces si quisiéramos encontrar la solución numérica en el punto $(x, y)$ que se encuentra a una corta distancia $h$?. En este caso, podríamos definir a $y$ como $y = y_0 + \\Delta y$, es decir, $y$ va ser igual al valor de $y$ en el punto inicial, más el cambio que ocurrió en $y$ al movernos a la distancia $h$. Y como el cambio en $y$ va a estar dado por la pendiente de la curva, que en este caso sabemos que es igual a  $f(x_0, y_0)$, podemos definir la siguiente [relación de recurrencia](https://es.wikipedia.org/wiki/Relaci%C3%B3n_de_recurrencia) que es la base para encontrar las soluciones numéricas con el [Método de Euler](https://es.wikipedia.org/wiki/M%C3%A9todo_de_Euler):\n",
    "\n",
    "$$y = y_0 + f(x_0, y_0)h$$\n",
    "\n",
    "La cual podemos generalizar para todo $n$ del siguiente forma:\n",
    "\n",
    "$$y_n = y_{n -1} + f(x_{n - 1}, y_{n - 1})h$$.\n",
    "\n",
    "Este método esta íntimamente relacionado con los [Campos de direcciones](https://es.wikipedia.org/wiki/Campo_de_direcciones) que analizamos más arriba. En general, el [Método de Euler](https://es.wikipedia.org/wiki/M%C3%A9todo_de_Euler) dice que empecemos por el punto dado por el *condición incial* y continuemos en la dirección indicada por el [Campo de direcciones](https://es.wikipedia.org/wiki/Campo_de_direcciones). Luego nos detengamos, miramos a la pendiente en la nueva ubicación, y procedemos en esa dirección."
   ]
  },
  {
   "cell_type": "markdown",
   "metadata": {},
   "source": [
    "#### El Método de Runge-Kutta"
   ]
  },
  {
   "cell_type": "markdown",
   "metadata": {},
   "source": [
    "Otro método que podemos utilizar para encontrar soluciones numéricas a [Ecuaciones diferenciales](https://es.wikipedia.org/wiki/Ecuaci%C3%B3n_diferencial), y que incluso es más preciso que el [Método de Euler](https://es.wikipedia.org/wiki/M%C3%A9todo_de_Euler), es el [Método de Runge-Kutta](https://es.wikipedia.org/wiki/M%C3%A9todo_de_Runge-Kutta). En el cual la [relación de recurrencia](https://es.wikipedia.org/wiki/Relaci%C3%B3n_de_recurrencia) va a estar dada por un promedio ponderado de términos de la siguiente manera:\n",
    "\n",
    "$$y_{k + 1} = y_k + \\frac{1}{6}(k_1 + 2k_2 + 2k_3 + k_4)$$\n",
    "\n",
    "en dónde:\n",
    "\n",
    "$$k_1 = f(x_k, y_k)h_k, \\\\\n",
    "k_2 = f\\left(x_k + \\frac{h_k}{2}, y_k + \\frac{k_1}{2}\\right)h_k, \\\\\n",
    "k_3 = f\\left(x_k + \\frac{h_k}{2}, y_k + \\frac{k_2}{2}\\right)h_k, \\\\\n",
    "k_4 = f\\left(x_k + h_k, y_k + k_3\\right)h_k. \\\\\n",
    "$$"
   ]
  },
  {
   "cell_type": "markdown",
   "metadata": {},
   "source": [
    "#### Soluciones numéricas con Python"
   ]
  },
  {
   "cell_type": "markdown",
   "metadata": {},
   "source": [
    "Para poder resolver [Ecuaciones diferenciales](https://es.wikipedia.org/wiki/Ecuaci%C3%B3n_diferencial) en forma numérica con [Python](https://www.python.org/), podemos utilizar las herramienta de integración que nos ofrece [SciPy](http://www.scipy.org/), particularmente los dos solucionadores de [ecuaciones diferenciales ordinarias](https://es.wikipedia.org/wiki/Ecuaci%C3%B3n_diferencial_ordinaria), `integrate.odeint` y `integrate.ode`. La principal diferencia entre ambos, es que `integrate.ode` es más flexible, ya que nos ofrece la posibilidad de elegir entre distintos *solucionadores*. Veamos algunos ejemplos:\n",
    "\n",
    "Comencemos por la siguiente función:\n",
    "\n",
    "$$f(x, y(x)) = x + y(x)^2$$"
   ]
  },
  {
   "cell_type": "code",
   "execution_count": null,
   "metadata": {},
   "outputs": [],
   "source": [
    "# Defino la función\n",
    "f = y(x)**2 + x\n",
    "f"
   ]
  },
  {
   "cell_type": "code",
   "execution_count": null,
   "metadata": {},
   "outputs": [],
   "source": [
    "# la convierto en una función ejecutable\n",
    "f_np = sympy.lambdify((y(x), x), f)\n",
    "\n",
    "# Definimos los valores de la condición inicial y el rango de x sobre los \n",
    "# que vamos a iterar para calcular y(x)\n",
    "y0 = 0\n",
    "xp = np.linspace(0, 1.9, 100)\n",
    "\n",
    "# Calculando la solución numerica para los valores de y0 y xp\n",
    "yp = integrate.odeint(f_np, y0, xp)\n",
    "\n",
    "# Aplicamos el mismo procedimiento para valores de x negativos\n",
    "xn = np.linspace(0, -5, 100)\n",
    "yn = integrate.odeint(f_np, y0, xn)"
   ]
  },
  {
   "cell_type": "markdown",
   "metadata": {},
   "source": [
    "Los resultados son dos matrices unidimensionales de [NumPy](http://www.numpy.org/) $yp$ y $yn$, de la misma longitud que las correspondientes matrices de coordenadas $xp$ y $xn$, que contienen las soluciones numéricas de la [ecuación diferencial ordinaria](https://es.wikipedia.org/wiki/Ecuaci%C3%B3n_diferencial_ordinaria) para esos puntos específicos. Para visualizar la solución, podemos graficar las matrices $yp$ y $yn$, junto con su [Campo de direcciones](https://es.wikipedia.org/wiki/Campo_de_direcciones)."
   ]
  },
  {
   "cell_type": "code",
   "execution_count": null,
   "metadata": {},
   "outputs": [],
   "source": [
    "fig, axes = plt.subplots(1, 1, figsize=(8, 6))\n",
    "plot_direction_field(x, y(x), f, ax=axes)\n",
    "axes.plot(xn, yn, 'b', lw=2)\n",
    "axes.plot(xp, yp, 'r', lw=2)\n",
    "plt.show()"
   ]
  },
  {
   "cell_type": "markdown",
   "metadata": {},
   "source": [
    "En este ejemplo, solucionamos solo una ecuación. Generalmente, la mayoría de los problemas se presentan en la forma de sistemas de [ecuaciones diferenciales ordinarias](https://es.wikipedia.org/wiki/Ecuaci%C3%B3n_diferencial_ordinaria), es decir, que incluyen varias ecuaciones a resolver. Para ver como podemos utilizar a `integrate.odeint` para resolver este tipo de problemas, consideremos el siguiente sistema de [ecuaciones diferenciales ordinarias](https://es.wikipedia.org/wiki/Ecuaci%C3%B3n_diferencial_ordinaria), conocido el [atractor de Lorenz](https://es.wikipedia.org/wiki/Atractor_de_Lorenz):\n",
    "\n",
    "$$x'(t) = \\sigma(y -x), \\\\\n",
    "y'(t) = x(\\rho -z)-y, \\\\\n",
    "z'(t) = xy - \\beta z\n",
    "$$\n",
    "\n",
    "Estas ecuaciones son conocidas por sus soluciones caóticas, que dependen sensiblemente de los valores de los parámetros $\\sigma$, $\\rho$ y $\\beta$. Veamos como podemos resolverlas con la ayuda de [Python](https://www.python.org/)."
   ]
  },
  {
   "cell_type": "code",
   "execution_count": null,
   "metadata": {},
   "outputs": [],
   "source": [
    "# Definimos el sistema de ecuaciones\n",
    "def f(xyz, t, sigma, rho, beta):\n",
    "    x, y, z = xyz\n",
    "    return [sigma * (y - x), \n",
    "           x * (rho - z) - y,\n",
    "           x * y - beta * z]\n",
    "\n",
    "# Asignamos valores a los parámetros\n",
    "sigma, rho, beta = 8, 28, 8/3.0\n",
    "\n",
    "# Condición inicial y valores de t sobre los que calcular\n",
    "xyz0 = [1.0, 1.0, 1.0]\n",
    "t = np.linspace(0, 25, 10000)\n",
    "\n",
    "# Resolvemos las ecuaciones\n",
    "xyz1 = integrate.odeint(f, xyz0, t, args=(sigma, rho, beta))\n",
    "xyz2 = integrate.odeint(f, xyz0, t, args=(sigma, rho, 0.6*beta))\n",
    "xyz3 = integrate.odeint(f, xyz0, t, args=(2*sigma, rho, 0.6*beta))"
   ]
  },
  {
   "cell_type": "code",
   "execution_count": null,
   "metadata": {},
   "outputs": [],
   "source": [
    "# Graficamos las soluciones\n",
    "from mpl_toolkits.mplot3d.axes3d import Axes3D\n",
    "fig, (ax1,ax2,ax3) = plt.subplots(1, 3, figsize=(12, 4),\n",
    "                                  subplot_kw={'projection':'3d'})\n",
    "\n",
    "for ax, xyz, c in [(ax1, xyz1, 'r'), (ax2, xyz2, 'b'), (ax3, xyz3, 'g')]:\n",
    "    ax.plot(xyz[:,0], xyz[:,1], xyz[:,2], c, alpha=0.5)\n",
    "    ax.set_xlabel('$x$', fontsize=16)\n",
    "    ax.set_ylabel('$y$', fontsize=16)\n",
    "    ax.set_zlabel('$z$', fontsize=16)\n",
    "    ax.set_xticks([-15, 0, 15])\n",
    "    ax.set_yticks([-20, 0, 20])\n",
    "    ax.set_zticks([0, 20, 40])"
   ]
  },
  {
   "cell_type": "markdown",
   "metadata": {},
   "source": [
    "Como podemos ver, los solucionadores numéricos que nos ofrece [SciPy](http://www.scipy.org/) son simples de utilizar y pueden simplificar bastante el trabajo de resolver [Ecuaciones diferenciales](https://es.wikipedia.org/wiki/Ecuaci%C3%B3n_diferencial)."
   ]
  },
  {
   "cell_type": "markdown",
   "metadata": {},
   "source": [
    "### Método analítico vs Método numérico"
   ]
  },
  {
   "cell_type": "markdown",
   "metadata": {},
   "source": [
    "Al resolver una [ecuación diferencial ordinaria](https://es.wikipedia.org/wiki/Ecuaci%C3%B3n_diferencial_ordinaria) en forma analítica, el resultado es una función, $f$, que nos permite calcular la población, $f(t)$, para cualquier valor de $t$. Al resolver una [ecuación diferencial ordinaria](https://es.wikipedia.org/wiki/Ecuaci%C3%B3n_diferencial_ordinaria) en forma numéricamente, se obtienen dos matrices de una dimensión. Podemos pensar a estas matrices como una aproximación discreta de la función continua $f$: *\"discreta\"*, ya que sólo se define para ciertos valores de $t$, y *\"aproximada\"*, porque cada valor $F_i$ es sólo una estimación del verdadero valor de $f(t)$. Por tanto, estas son limitaciones de las soluciones numéricas. La principal ventaja es que se puede calcular soluciones numéricas de [ecuaciones diferenciales ordinarias](https://es.wikipedia.org/wiki/Ecuaci%C3%B3n_diferencial_ordinaria) que no tienen soluciones analíticas, que son la gran mayoría de las [ecuaciones diferenciales ordinarias](https://es.wikipedia.org/wiki/Ecuaci%C3%B3n_diferencial_ordinaria) no lineales."
   ]
  },
  {
   "cell_type": "markdown",
   "metadata": {},
   "source": [
    "Con esto concluyo este paseo por una de las más fructíferas  ideas de las matemáticas aplicadas, las  [Ecuaciones diferenciales](https://es.wikipedia.org/wiki/Ecuaci%C3%B3n_diferencial); espero que les pueda servir de guía para facilitarles su solución.\n",
    "\n",
    "Saludos!\n",
    "\n",
    "*Este post fue escrito utilizando Jupyter notebook. Pueden descargar este [notebook](https://github.com/relopezbriega/relopezbriega.github.io/blob/master/downloads/Diff_Eq_python.ipynb) o ver su version estática en [nbviewer](http://nbviewer.ipython.org/github/relopezbriega/relopezbriega.github.io/blob/master/downloads/Diff_Eq_python.ipynb).*"
   ]
  },
  {
   "cell_type": "code",
   "execution_count": null,
   "metadata": {},
   "outputs": [],
   "source": []
  }
 ],
 "metadata": {
  "kernelspec": {
   "display_name": "Python 3",
   "language": "python",
   "name": "python3"
  },
  "language_info": {
   "codemirror_mode": {
    "name": "ipython",
    "version": 3
   },
   "file_extension": ".py",
   "mimetype": "text/x-python",
   "name": "python",
   "nbconvert_exporter": "python",
   "pygments_lexer": "ipython3",
   "version": "3.6.13"
  },
  "toc": {
   "base_numbering": 1,
   "nav_menu": {},
   "number_sections": true,
   "sideBar": true,
   "skip_h1_title": true,
   "title_cell": "Tabla de Contenidos",
   "title_sidebar": "Contenidos",
   "toc_cell": true,
   "toc_position": {},
   "toc_section_display": true,
   "toc_window_display": true
  }
 },
 "nbformat": 4,
 "nbformat_minor": 1
}
