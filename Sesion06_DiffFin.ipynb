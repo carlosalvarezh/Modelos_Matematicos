{
 "cells": [
  {
   "cell_type": "markdown",
   "id": "26b17e96",
   "metadata": {},
   "source": [
    "<h1 align=\"center\">Modelos Matemáticos de Ingeniería</h1>\n",
    "<h1 align=\"center\">Sesión 06 - Diferencias finitas</h1>\n",
    "<h1 align=\"center\">2021/02</h1>\n",
    "<h1 align=\"center\">MEDELLÍN - COLOMBIA </h1>"
   ]
  },
  {
   "cell_type": "markdown",
   "id": "7207fac6",
   "metadata": {},
   "source": [
    "<table>\n",
    " <tr align=left><td><img align=left src=\"https://github.com/carlosalvarezh/Dinamica/blob/main/Figs/CC-BY.png?raw=true\">\n",
    " <td>Text provided under a Creative Commons Attribution license, CC-BY. All code is made available under the FSF-approved MIT license.(c) Carlos Alberto Alvarez Henao</td>\n",
    "</table> "
   ]
  },
  {
   "cell_type": "markdown",
   "id": "353db754",
   "metadata": {},
   "source": [
    "*** \n",
    "\n",
    "***Docente:*** Carlos Alberto Álvarez Henao, I.C. D.Sc.\n",
    "\n",
    "***e-mail:*** carlosalvarezh@gmail.com\n",
    "\n",
    "***skype:*** carlos.alberto.alvarez.henao\n",
    "\n",
    "***Linkedin:*** https://www.linkedin.com/in/carlosalvarez5/\n",
    "\n",
    "***github:*** https://github.com/carlosalvarezh/Dinamica\n",
    "\n",
    "***Herramienta:*** [Jupyter](http://jupyter.org/)\n",
    "\n",
    "***Kernel:*** Python 3.9\n",
    "\n",
    "\n",
    "***"
   ]
  },
  {
   "cell_type": "markdown",
   "id": "bc3b8fd9",
   "metadata": {
    "toc": true
   },
   "source": [
    "<h1>Tabla de Contenidos<span class=\"tocSkip\"></span></h1>\n",
    "<div class=\"toc\"><ul class=\"toc-item\"><li><span><a href=\"#Diferencias-Finitas\" data-toc-modified-id=\"Diferencias-Finitas-1\"><span class=\"toc-item-num\">1&nbsp;&nbsp;</span>Diferencias Finitas</a></span><ul class=\"toc-item\"><li><span><a href=\"#Series-de-Taylor\" data-toc-modified-id=\"Series-de-Taylor-1.1\"><span class=\"toc-item-num\">1.1&nbsp;&nbsp;</span>Series de Taylor</a></span></li><li><span><a href=\"#Esquemas-para-la-primera-derivada-en-1D\" data-toc-modified-id=\"Esquemas-para-la-primera-derivada-en-1D-1.2\"><span class=\"toc-item-num\">1.2&nbsp;&nbsp;</span>Esquemas para la primera derivada en 1D</a></span><ul class=\"toc-item\"><li><span><a href=\"#Primer-orden-hacia-adelante-(forward)\" data-toc-modified-id=\"Primer-orden-hacia-adelante-(forward)-1.2.1\"><span class=\"toc-item-num\">1.2.1&nbsp;&nbsp;</span>Primer orden hacia adelante (forward)</a></span></li><li><span><a href=\"#Primer-orden-hacia-atrás-(backward)\" data-toc-modified-id=\"Primer-orden-hacia-atrás-(backward)-1.2.2\"><span class=\"toc-item-num\">1.2.2&nbsp;&nbsp;</span>Primer orden hacia atrás (backward)</a></span></li><li><span><a href=\"#Segundo-orden-(central)\" data-toc-modified-id=\"Segundo-orden-(central)-1.2.3\"><span class=\"toc-item-num\">1.2.3&nbsp;&nbsp;</span>Segundo orden (central)</a></span></li><li><span><a href=\"#Resumen-esquemas-para-la-primera-derivada\" data-toc-modified-id=\"Resumen-esquemas-para-la-primera-derivada-1.2.4\"><span class=\"toc-item-num\">1.2.4&nbsp;&nbsp;</span>Resumen esquemas para la primera derivada</a></span></li></ul></li><li><span><a href=\"#Esquemas-para-la-segunda-derivada-en-1D\" data-toc-modified-id=\"Esquemas-para-la-segunda-derivada-en-1D-1.3\"><span class=\"toc-item-num\">1.3&nbsp;&nbsp;</span>Esquemas para la segunda derivada en 1D</a></span></li><li><span><a href=\"#Esquemas-en-2D\" data-toc-modified-id=\"Esquemas-en-2D-1.4\"><span class=\"toc-item-num\">1.4&nbsp;&nbsp;</span>Esquemas en 2D</a></span></li><li><span><a href=\"#Término-difusivo-no-uniforme-en-1D\" data-toc-modified-id=\"Término-difusivo-no-uniforme-en-1D-1.5\"><span class=\"toc-item-num\">1.5&nbsp;&nbsp;</span>Término difusivo no uniforme en 1D</a></span></li></ul></li><li><span><a href=\"#Molécula-computacional-de-una-aproximación-den-Diferencias-Finitas\" data-toc-modified-id=\"Molécula-computacional-de-una-aproximación-den-Diferencias-Finitas-2\"><span class=\"toc-item-num\">2&nbsp;&nbsp;</span>Molécula computacional de una aproximación den Diferencias Finitas</a></span><ul class=\"toc-item\"><li><span><a href=\"#Ejemplo-Ecuación-de-Laplace\" data-toc-modified-id=\"Ejemplo-Ecuación-de-Laplace-2.1\"><span class=\"toc-item-num\">2.1&nbsp;&nbsp;</span>Ejemplo Ecuación de Laplace</a></span></li></ul></li><li><span><a href=\"#Discretización-de-ecuaciones-en-estado-estacionario\" data-toc-modified-id=\"Discretización-de-ecuaciones-en-estado-estacionario-3\"><span class=\"toc-item-num\">3&nbsp;&nbsp;</span>Discretización de ecuaciones en estado estacionario</a></span></li></ul></div>"
   ]
  },
  {
   "cell_type": "markdown",
   "id": "4ead7897",
   "metadata": {},
   "source": [
    "## Diferencias Finitas"
   ]
  },
  {
   "cell_type": "markdown",
   "id": "3332ef2c",
   "metadata": {},
   "source": [
    "En [análisis numérico](https://en.wikipedia.org/wiki/Numerical_analysis), los métodos de diferencias finitas (FDM) son una clase de técnicas numéricas para resolver ecuaciones diferenciales mediante la aproximación de derivadas con diferencias finitas. Tanto el dominio espacial como el intervalo de tiempo (si corresponde) se discretizan o se dividen en un número finito de pasos, y el valor de la solución en estos puntos discretos se aproxima resolviendo ecuaciones algebraicas que contienen diferencias finitas y valores de puntos cercanos.\n",
    "\n",
    "Los métodos de diferencias finitas convierten las ecuaciones diferenciales ordinarias (EDO) o las ecuaciones diferenciales parciales (PDE), que pueden ser no lineales, en un sistema de ecuaciones lineales que pueden resolverse mediante técnicas de álgebra matricial. Las computadoras modernas pueden realizar estos cálculos de álgebra lineal de manera eficiente, lo que, junto con su relativa facilidad de implementación, ha llevado al uso generalizado de FDM en el análisis numérico moderno. Hoy en día, FDM es uno de los enfoques más comunes para la solución numérica de PDE, junto con los métodos de elementos finitos."
   ]
  },
  {
   "cell_type": "markdown",
   "id": "5e289447",
   "metadata": {},
   "source": [
    "### Series de Taylor"
   ]
  },
  {
   "cell_type": "markdown",
   "id": "509997c6",
   "metadata": {},
   "source": [
    "La [serie de Taylor](https://en.wikipedia.org/wiki/Taylor_series) de una función es una suma infinita de términos que se expresan en términos de las derivadas de la función en un solo punto. Para las funciones más comunes, la función y la suma de su serie de Taylor son iguales cerca de este punto. Las series de Taylor llevan el nombre de [Brook Taylor](https://en.wikipedia.org/wiki/Brook_Taylor), quien las presentó en 1715.\n",
    "\n",
    "La suma parcial formada por los primeros $n + 1$ términos de una serie de Taylor es un polinomio de grado $n$ que se llama el *$n$-ésimo polinomio de Taylor de la función*. Los polinomios de Taylor son aproximaciones de una función, que generalmente se vuelven mejores a medida que $n$ aumenta. El [teorema de Taylor](https://en.wikipedia.org/wiki/Taylor%27s_theorem) da estimaciones cuantitativas sobre el error introducido por el uso de tales aproximaciones. Si la serie de Taylor de una función es convergente, su suma es el límite de la secuencia infinita de los polinomios de Taylor."
   ]
  },
  {
   "cell_type": "markdown",
   "id": "12039693",
   "metadata": {},
   "source": [
    "### Esquemas para la primera derivada en 1D"
   ]
  },
  {
   "cell_type": "markdown",
   "id": "b4bb3c07",
   "metadata": {},
   "source": [
    "De la [serie de Taylor](https://en.wikipedia.org/wiki/Taylor_series) \n",
    "\n",
    "<a id='Ec6_1'></a>\n",
    "\\begin{equation*}\n",
    "f(x_{i \\pm 1}) = f(x_i) \\pm f'(x_i)h + \\frac{f''(x_i)h^2}{2!} \\pm \\frac{f'''(x_i)h^3}{3!} + \\ldots\n",
    "\\label{eq:Ec6_1} \\tag{6.1}\n",
    "\\end{equation*}\n",
    "\n",
    "con $h=\\Delta x = x_{i+1}-x_i$ siendo el tamaño de paso.\n",
    "\n",
    "Dada que la serie contiene infinitos términos, partir de la ecuación [(6.1)](#Ec6_1) se pueden obtener infinitos esquemas numéricos para determinar cada una de las infinitas derivadas de dicho polinomio."
   ]
  },
  {
   "cell_type": "markdown",
   "id": "0359ec69",
   "metadata": {},
   "source": [
    "#### Primer orden hacia adelante (forward)"
   ]
  },
  {
   "cell_type": "markdown",
   "id": "16058ec9",
   "metadata": {},
   "source": [
    "De la ecuación [(6.1)](#Ec6_1) tomando los valores positivos, que involucran únicamente términos hacia adelante, se trunca la serie hasta la primera derivada y se realiza un despeje algebraico para llegar a:\n",
    "\n",
    "<a id='Ec6_2'></a>\n",
    "\\begin{equation*}\n",
    "f'(x_i) = \\frac{f(x_{i+1})-f(x_i)}{h} + \\mathcal{O}(h)\n",
    "\\label{eq:Ec6_2} \\tag{6.2}\n",
    "\\end{equation*}\n",
    "\n",
    "se puede observar que el término $\\mathcal{O}(h)$ indica que el error es de orden lineal, es decir, si se reduce el tamaño de paso, $h$, a la mitad, el error se reducirá a la mitad. Si se reduc el tamaño de paso a una cuarta parte, el error se reducirá, linealmente, una cuarta parte."
   ]
  },
  {
   "cell_type": "markdown",
   "id": "8fc4982b",
   "metadata": {},
   "source": [
    "#### Primer orden hacia atrás (backward)"
   ]
  },
  {
   "cell_type": "markdown",
   "id": "f1031e95",
   "metadata": {},
   "source": [
    "De la ecuación [(6.1)](#Ec6_1) tomando los valores negativos, que involucran únicamente términos hacia atrás (backward). Se trunca la serie hasta la primera derivada y se realiza un despeje algebraico para llegar a:\n",
    "\n",
    "<a id='Ec6_3'></a>\n",
    "\\begin{equation*}\n",
    "f'(x_i) = \\frac{f(x_{i})-f(x_{i-1})}{h} + \\mathcal{O}(h)\n",
    "\\label{eq:Ec6_3} \\tag{6.3}\n",
    "\\end{equation*}\n",
    "\n",
    "se observa que se llega a una expresión similar a la de la ecuación [(6.2)](#Ec6_2), pero de esta vez, se tiene en cuenta es el valor anterior al punto $x_i$. También se observa que el error es de orden lineal, por lo que se mantiene un esquema de primer orden.\n",
    "\n"
   ]
  },
  {
   "cell_type": "markdown",
   "id": "5906db12",
   "metadata": {},
   "source": [
    "#### Segundo orden (central)"
   ]
  },
  {
   "cell_type": "markdown",
   "id": "e521264b",
   "metadata": {},
   "source": [
    "Una forma de aumentar el orden de estos esquemas, es realizar el truncamiento de la *serie de Taylor* hasta la segunda derivada, hacia adelante y hacia atras, y realizar su resta aritmética.\n",
    "\n",
    "<a id='Ec6_4'></a>\n",
    "\\begin{equation*}\n",
    "\\begin{split}\n",
    "f(x_{i+1}) & = f(x_i) + f'(x_i)h + \\frac{f''(x_i)h^2}{2!} \\\\\n",
    "& - \\\\\n",
    "f(x_{i-1}) & = f(x_i) - f'(x_i)h + \\frac{f''(x_i)h^2}{2!} \\\\\n",
    "\\hline \\\\\n",
    "f(x_{i+1}) - f(x_{i-1}) & = 2 f'(x_i)h\n",
    "\\end{split}\n",
    "\\label{eq:Ec6_4} \\tag{6.4}\n",
    "\\end{equation*}\n",
    " \n",
    "de la anterior ecuación, despejando el término que corresponde a la primera derivada queda:\n",
    "\n",
    "<a id='Ec6_5'></a>\n",
    "\\begin{equation*}\n",
    "\\begin{split}\n",
    "f'(x_i) = \\frac{f(x_{i+1}) - f(x_{i-1})}{2h} + \\mathcal{O}(h^2)\n",
    "\\end{split}\n",
    "\\label{eq:Ec6_5} \\tag{6.5}\n",
    "\\end{equation*}\n",
    "\n",
    "se llega al esquema de diferencias finitas central para la primera derivada, que es de orden dos, es decir, si se disminuye el tamaño de paso, $h$, a la mitad, el error se disminuye una cuarta partes. En principio, esta es una mejor aproximación que los dos esquemas anteriores. La selección del esquema dependerá de la disponibilidad de puntos y del fenómeno físico a tratar."
   ]
  },
  {
   "cell_type": "markdown",
   "id": "fbd824ab",
   "metadata": {},
   "source": [
    "#### Resumen esquemas para la primera derivada"
   ]
  },
  {
   "cell_type": "markdown",
   "id": "52dff37f",
   "metadata": {},
   "source": [
    "Como la serie de Taylor es infinita, se podrían determinar infinitos esquemas de diferentes ordenes para la primera derivada. En la siguiente tabla se presentan algunos esquemas de diferencias finitas para la primera derivada de diferentes órdenes. Se deja al estudiante la consulta de otros esquemas.\n",
    "\n",
    "|***Esquema***|***Función***|***Error***|\n",
    "|:-----:|:-----:|:---:|\n",
    "|***Forward***|$$f´(x_0)=\\frac{f(x_0+h)-f(x_0)}{h}$$|$$\\mathcal{O}(h)$$|\n",
    "|       |$$f´(x_0)=\\frac{-3f(x_0)+4f(x_0+h)-f(x_0+2h)}{2h}$$|$$\\mathcal{O}(h^2)$$|\n",
    "|***Central***|$$f´(x_0)=\\frac{f(x_0+h)-f(x_0-h)}{2h}$$|$$\\mathcal{O}(h^2)$$|\n",
    "|       |$$f´(x_0)=\\frac{f(x_0-2h)-8f(x_0-h)+8f(x_0+h)-f(x_0+2h)}{12h}$$|$$\\mathcal{O}(h^4)$$|\n",
    "|***Backward***|$$f´(x_0)=\\frac{f(x_0)-f(x_0-h)}{h}$$|$$\\mathcal{O}(h)$$|\n",
    "|        |$$f´(x_0)=\\frac{f(x_0-2h)-4f(x_0-h)+3f(x_0)}{2h}$$|$$\\mathcal{O}(h^2)$$|\n"
   ]
  },
  {
   "cell_type": "markdown",
   "id": "0587464d",
   "metadata": {},
   "source": [
    "### Esquemas para la segunda derivada en 1D"
   ]
  },
  {
   "cell_type": "markdown",
   "id": "79a81b6a",
   "metadata": {},
   "source": [
    "Siguiendo con la misma forma de abordar el problema para la primera derivada, si se amplian los términos en la serie de Taylor hasta la tercera derivada tanto hacia adelante como hacia atrás, y se suman, se llega a:\n",
    "\n",
    "<a id='Ec6_6'></a>\n",
    "\\begin{equation*}\n",
    "\\begin{split}\n",
    "f(x_{i+1}) & = f(x_i) + f'(x_i)h + \\frac{f''(x_i)h^2}{2!} + \\frac{f'''(x_i)h^3}{3!}\\\\\n",
    "& + \\\\\n",
    "f(x_{i-1}) & = f(x_i) - f'(x_i)h + \\frac{f''(x_i)h^2}{2!} - \\frac{f'''(x_i)h^3}{3!}\\\\\n",
    "\\hline \\\\\n",
    "f(x_{i+1}) + f(x_{i-1}) & = 2 f(x_i) + 2f''(x_i)\\frac{h^2}{2!} + \\mathcal{O}(h^3)\n",
    "\\end{split}\n",
    "\\label{eq:Ec6_6} \\tag{6.6}\n",
    "\\end{equation*}\n",
    " \n",
    "Despejando para el término de la segunda derivada, se llega a:\n",
    "\n",
    "<a id='Ec6_7'></a>\n",
    "\\begin{equation*}\n",
    "\\begin{split}\n",
    "f''(x_i) = \\frac{f(x_{i+1}) - 2f(x_i) + f(x_{i-1})}{h^2} + \\mathcal{O}(h^3)\n",
    "\\end{split}\n",
    "\\label{eq:Ec6_7} \\tag{6.7}\n",
    "\\end{equation*}\n",
    "\n",
    "Que corresponde a un esquema de diferencias finitas de segundo orden para la segunda derivada. A este esquema también se le llama \"*molécula de tres puntos*\"\n",
    "\n",
    "Igual que para la primera derivada, se pueden determinar infinitos esquemas de diferentes órdenes para la segunda derivada, y derivadas superiores. A continuación se muestra un cuadro resumen de algunos esquemas de diferencias finitas para la segunda derivada. Se deja al estudiante la revisión de esquemas de mayor orden para la segunda derivada y derivadas superiores.\n",
    "\n",
    "|***Esquema***|***Función***|***Error***|\n",
    "|:-----:|:-----:|:---:|\n",
    "|***Forward***|$$f''(x_0)=\\frac{f(x_0)-2f(x_0+h)+f(x_0+2h)}{h^2}$$|$$\\mathcal{O}(h)$$|\n",
    "|       |$$f''(x_0)=\\frac{2f(x_0)-5f(x_0+h)+4f(x_0+2h)-f(x_0+3h)}{h^2}$$|$$\\mathcal{O}(h^2)$$|\n",
    "|***Central***|$$f''(x_0)=\\frac{f(x_0-h)-2f(x_0)+f(x_0+h)}{h^2}$$|$$\\mathcal{O}(h^2)$$|\n",
    "|       |$$f''(x_0)=\\frac{-f(x_0-2h)+16f(x_0-h)-30f(x_0)+16f(x_0+h)-f(x_0+2h)}{12h^2}$$|$$\\mathcal{O}(h^4)$$|\n",
    "|***Backward***|$$f''(x_0)=\\frac{f(x_0-2h)-2f(x_0-h)+f(x_0)}{h}$$|$$\\mathcal{O}(h^2)$$|\n",
    "|        |$$f''(x_0)=\\frac{-f(x_0-3h)+4f(x_0-2h)-5f(x_0-h)+2f(x_0)}{h^2}$$|$$\\mathcal{O}(h^2)$$|\n"
   ]
  },
  {
   "cell_type": "markdown",
   "id": "4602cf9d",
   "metadata": {},
   "source": [
    "### Esquemas en 2D"
   ]
  },
  {
   "cell_type": "markdown",
   "id": "2ab01053",
   "metadata": {},
   "source": [
    "De la serie truncada de Taylor en 2D, sea $\\phi=\\phi(x,y)$\n",
    "\n",
    "<a id='Ec6_8'></a>\n",
    "\\begin{equation*}\n",
    "\\begin{split}\n",
    "\\phi(x_{i+1},y_{i+1})=\\phi(x_i,y_i)+ \\left.\\Delta x \\frac{\\partial \\phi}{\\partial x}\\right|_{i,j}+ \\left.\\Delta y \\frac{\\partial \\phi}{\\partial y}\\right|_{i,j} + \\left.\\frac{(\\Delta x)^2}{2!}\\frac{\\partial^2\\phi}{\\partial x^2}\\right|_{i,j} + \\left. 2\\frac{(\\Delta x)(\\Delta y)}{2!}\\frac{\\partial^2 \\phi}{\\partial x \\partial y} \\right|_{i,j}+ \\left.\\frac{(\\Delta y)^2}{2!}\\frac{\\partial^2\\phi}{\\partial y^2}\\right|_{i,j} + R_N\n",
    "\\end{split}\n",
    "\\label{eq:Ec6_8} \\tag{6.8}\n",
    "\\end{equation*}\n",
    "\n",
    "De la anterior ecuación, el único término que faltaría por determinar es el correspondiente a la derivada mixta en $x$ y $y$, que está dada por:\n",
    "\n",
    "<a id='Ec6_9'></a>\n",
    "\\begin{equation*}\n",
    "\\begin{split}\n",
    "\\frac{\\partial^2 \\phi}{\\partial x \\partial y} = \\frac{\\phi_{i+1,j+1}-\\phi_{i+1,j-1}-\\phi_{i-1,j+1}+\\phi_{i-1,j-1}}{4(\\Delta x)(\\Delta y)} + O \\left[ (\\Delta x)^2,(\\Delta y)^2 \\right ]\n",
    "\\end{split}\n",
    "\\label{eq:Ec6_9} \\tag{6.9}\n",
    "\\end{equation*}\n"
   ]
  },
  {
   "cell_type": "markdown",
   "id": "48bca498",
   "metadata": {},
   "source": [
    "### Término difusivo no uniforme en 1D"
   ]
  },
  {
   "cell_type": "markdown",
   "id": "792c23fb",
   "metadata": {},
   "source": [
    "<a id='Ec6_10'></a>\n",
    "\\begin{equation*}\n",
    "\\begin{split}\n",
    "\\frac{\\partial}{\\partial x}\\left( \\Gamma \\frac{\\partial \\phi}{\\partial x} \\right)\n",
    "\\end{split}\n",
    "\\label{eq:Ec6_10} \\tag{6.10}\n",
    "\\end{equation*}\n",
    "\n",
    "donde $\\Gamma$ es el coeficiente de difusión o viscosidad\n",
    "\n",
    "<a id='Ec6_11'></a>\n",
    "\\begin{equation*}\n",
    "\\begin{split}\n",
    "\\left. \\frac{\\partial}{\\partial x}\\left( \\Gamma \\frac{\\partial \\phi}{\\partial x} \\right) \\right |_{i}=\\frac{\\left(\\Gamma \\frac{\\partial \\phi}{\\partial x}\\right)_{i+1/2}-\\left(\\Gamma \\frac{\\partial \\phi}{\\partial x}\\right)_{i-1/2}}{\\Delta x}+O(\\Delta x)^2\n",
    "\\end{split}\n",
    "\\label{eq:Ec6_11} \\tag{6.11}\n",
    "\\end{equation*}\n",
    "\n",
    "Se realiza entonces una aproximación en los puntos $x_{i \\pm 1/2}$\n",
    "\n",
    "<a id='Ec6_12'></a>\n",
    "\\begin{equation*}\n",
    "\\begin{split}\n",
    "\\left. \\frac{\\partial}{\\partial x}\\left( \\Gamma \\frac{\\partial \\phi}{\\partial x} \\right) \\right |_{i} = \\frac{\\Gamma_{i+1/2}\\frac{\\phi_{i+1}-\\phi_i}{\\Delta x}-\\Gamma_{i-1/2}\\frac{\\phi_{i}-\\phi_{i-1}}{\\Delta x}}{\\Delta x}+O(\\Delta x)^2\n",
    "\\end{split}\n",
    "\\label{eq:Ec6_12} \\tag{6.12}\n",
    "\\end{equation*}\n",
    "\n",
    "simplificando,\n",
    "\n",
    "<a id='Ec6_13'></a>\n",
    "\\begin{equation*}\n",
    "\\begin{split}\n",
    "\\left. \\frac{\\partial}{\\partial x}\\left( \\Gamma \\frac{\\partial \\phi}{\\partial x} \\right) \\right |_{i} = \\Gamma_{i+1/2} \\frac{\\phi_{i+1}-\\phi_i}{(\\Delta x)^2}-\\Gamma_{i-1/2}\\frac{\\phi_{i}-\\phi_{i-1}}{(\\Delta x)^2}+O(\\Delta x)^2\n",
    "\\end{split}\n",
    "\\label{eq:Ec6_13} \\tag{6.13}\n",
    "\\end{equation*}\n",
    "\n",
    "Ahora, promediando los valores de $\\Gamma_{i \\pm1/2}$,\n",
    "\n",
    "<a id='Ec6_14'></a>\n",
    "\\begin{equation*}\n",
    "\\begin{split}\n",
    "\\Gamma_{i+1/2}=\\frac{\\Gamma_i+\\Gamma_{i+1}}{2} \\quad\\quad \\Gamma_{i-1/2}=\\frac{\\Gamma_i+\\Gamma_{i-1}}{2} \n",
    "\\end{split}\n",
    "\\label{eq:Ec6_14} \\tag{6.14}\n",
    "\\end{equation*}"
   ]
  },
  {
   "cell_type": "markdown",
   "id": "133ea21f",
   "metadata": {},
   "source": [
    "## Molécula computacional de una aproximación den Diferencias Finitas"
   ]
  },
  {
   "cell_type": "markdown",
   "id": "e70c8275",
   "metadata": {},
   "source": [
    "### Ejemplo Ecuación de Laplace"
   ]
  },
  {
   "cell_type": "markdown",
   "id": "e72102cb",
   "metadata": {},
   "source": [
    "En cálculo vectorial, la [ecuación de Laplace](https://en.wikipedia.org/wiki/Laplace%27s_equation) es una ecuación en derivadas parciales de segundo orden de tipo elíptico, que recibe ese nombre en honor al físico y matemático Pierre-Simon Laplace. La ecuació de Laplace en dos dimensiones se expresa como:\n",
    "\n",
    "<a id='Ec6_15'></a>\n",
    "\\begin{equation*}\n",
    "\\begin{split}\n",
    "\\nabla^2 \\phi & = 0 \\\\\n",
    "& = \\left. \\frac{\\partial^2 \\phi}{\\partial x^2} \\right|_{i,j} + \\left. \\frac{\\partial^2 \\phi}{\\partial y^2} \\right|_{i,j}\n",
    "\\end{split}\n",
    "\\label{eq:Ec6_15} \\tag{6.15}\n",
    "\\end{equation*}\n",
    "\n",
    "Empleando un esquema de diferencias finitas central para la segunda derivada, se tiene la discretización espacial como:\n",
    "\n",
    "<a id='Ec6_16'></a>\n",
    "\\begin{equation*}\n",
    "\\begin{split}\n",
    "\\nabla^2 \\phi & = \\frac{\\phi_{i+1,j}-2\\phi_{i,j}+\\phi_{i-1,j}}{(\\Delta x)^2} + \\frac{\\phi_{i,j+1}-2\\phi_{i,j}+\\phi_{i,j-1}}{(\\Delta y)^2} + O \\left[ (\\Delta x)^2,(\\Delta y)^2 \\right ]\n",
    "\\end{split}\n",
    "\\label{eq:Ec6_16} \\tag{6.16}\n",
    "\\end{equation*}\n",
    "\n",
    "El anterior esquema genera lo que se denomina como *molécula de cinco puntos* o *fórmula de cinco puntos*\n",
    "\n",
    "<p float=\"center\">\n",
    "  <img src=\"https://github.com/carlosalvarezh/Modelos_Matematicos/blob/main/Figs/S06_F02_molecula5ptos.PNG?raw=true\" width=\"250\" />\n",
    "</p>\n",
    "\n",
    "<div style=\"text-align: right\"> Fuente: <a href=\"\">Propio</a> </div>"
   ]
  },
  {
   "cell_type": "markdown",
   "id": "351d3d22",
   "metadata": {},
   "source": [
    "## Discretización de ecuaciones en estado estacionario"
   ]
  },
  {
   "cell_type": "markdown",
   "id": "86f92dea",
   "metadata": {},
   "source": [
    "[Ecuaciones en estado estacionario](https://en.wikipedia.org/wiki/Steady_state), son ecuaciones que no dependel del tiempo. A manera de ejemplo, considérese la ecuación de Laplace en $2D$ discretizada por la fórmula de cinco puntos en una región $\\Omega$ cuadrada con condiciones de contorno Dirichlet $\\phi(x,y)=\\Theta(x,y)$ en la frontera $\\delta \\Omega$\n",
    "\n",
    "<a id='Ec6_17'></a>\n",
    "\\begin{equation*}\n",
    "\\begin{split}\n",
    "\\nabla^2 \\phi & = \\frac{\\partial^2 \\phi}{\\partial x^2} + \\frac{\\partial^2 \\phi}{\\partial y^2}=0\n",
    "\\end{split}\n",
    "\\label{eq:Ec6_17} \\tag{6.17}\n",
    "\\end{equation*}\n",
    "\n",
    "Discretizando esta ecuación con la ecuación [(6.16)](#6_16), y reordenando los términos, se llega a:\n",
    "\n",
    "<a id='Ec6_18'></a>\n",
    "\\begin{equation*}\n",
    "\\begin{split}\n",
    "\\phi_{i+1,j}+\\phi_{i-1,j}-2(1+\\beta^2)\\phi_{i,j}+\\beta^2(\\phi_{i,j+1}+\\phi_{i,j-1})=0\n",
    "\\end{split}\n",
    "\\label{eq:Ec6_18} \\tag{6.18}\n",
    "\\end{equation*}\n",
    "\n",
    "donde $\\beta=\\frac{\\Delta x}{\\Delta y}$.\n",
    "\n",
    "Teniendo una discretización del dominio como se muestra en la figura:\n",
    "\n",
    "<p float=\"center\">\n",
    "  <img src=\"https://github.com/carlosalvarezh/Modelos_Matematicos/blob/main/Figs/S06_F03_Laplace.PNG?raw=true\" width=\"250\" />\n",
    "</p>\n",
    "\n",
    "<div style=\"text-align: right\"> Fuente: <a href=\"\">Propio</a> </div>\n",
    "\n",
    "La ecuación [(6.18)](#Ec6_18) será válida para todos los puntos discretos $(i,j)$ al interior de la región (nodos en color naranja). Dando valores a los subíndices $(i,j)$ desde $0$ hasta $4$ y reemplazando en la ecuación [(6.18)](#Ec6_18), se llega al siguente sistema de ecuaciones:\n",
    "\n",
    "<a id='Ec6_19'></a>\n",
    "\\begin{equation*}\n",
    "\\begin{split}\n",
    "(1,1) : \\phi_{2,1} + \\phi_{0,1} - 2(1+\\beta^2)\\phi_{1,1} + \\beta^2(\\phi_{1,2} + \\phi_{1,0})=0 \\\\\n",
    "(2,1) : \\phi_{3,1} + \\phi_{1,1} - 2(1+\\beta^2)\\phi_{2,1} + \\beta^2(\\phi_{2,2} + \\phi_{2,0})=0 \\\\\n",
    "(3,1) : \\phi_{4,1} + \\phi_{2,1} - 2(1+\\beta^2)\\phi_{3,1} + \\beta^2(\\phi_{3,2} + \\phi_{3,0})=0 \\\\\n",
    "(1,2) : \\phi_{2,2} + \\phi_{0,2} - 2(1+\\beta^2)\\phi_{1,2} + \\beta^2(\\phi_{1,3} + \\phi_{1,1})=0 \\\\\n",
    "(2,2) : \\phi_{3,2} + \\phi_{1,2} - 2(1+\\beta^2)\\phi_{2,2} + \\beta^2(\\phi_{2,3} + \\phi_{2,1})=0 \\\\\n",
    "(3,2) : \\phi_{4,2} + \\phi_{2,2} - 2(1+\\beta^2)\\phi_{3,2} + \\beta^2(\\phi_{3,3} + \\phi_{3,1})=0 \\\\\n",
    "(1,3) : \\phi_{2,3} + \\phi_{0,3} - 2(1+\\beta^2)\\phi_{1,3} + \\beta^2(\\phi_{1,4} + \\phi_{1,2})=0 \\\\\n",
    "(2,3) : \\phi_{3,3} + \\phi_{1,3} - 2(1+\\beta^2)\\phi_{2,3} + \\beta^2(\\phi_{2,4} + \\phi_{2,2})=0 \\\\\n",
    "(3,3) : \\phi_{4,3} + \\phi_{2,3} - 2(1+\\beta^2)\\phi_{3,3} + \\beta^2(\\phi_{3,4} + \\phi_{3,2})=0 \n",
    "\\end{split}\n",
    "\\label{eq:Ec6_19} \\tag{6.19}\n",
    "\\end{equation*}\n",
    "\n",
    "Expresando el anterior sistema de ecuaciones lineales en forma matricial se llega a un sistema $Ax=b$\n",
    "\n",
    "\\begin{align*}\n",
    "\\left[\\begin{array}{ccccccccc}\n",
    "  \\gamma &     1  &    0   &\\beta^2 &    0    &    0    &    0    &    0    &    0    \\\\\n",
    "  1      & \\gamma &    1   &    0   & \\beta^2 &    0    &    0    &    0    &    0    \\\\\n",
    "  0      &     1  & \\gamma &    0   &    0    & \\beta^2 &    0    &    0    &    0    \\\\\n",
    "  \\beta^2&     0  &    0   & \\gamma &    1    &    0    & \\beta^2 &    0    &    0    \\\\\n",
    "  0      & \\beta^2&    0   &    1   & \\gamma  &    1    &    0    & \\beta^2 &    0    \\\\\n",
    "  0      &     0  & \\beta^2&    0   &    1    & \\gamma  &    0    &    0    & \\beta^2 \\\\\n",
    "  0      &     0  &     0  & \\beta^2&    0    &    0    & \\gamma  &    1    &    0    \\\\\n",
    "  0      &     0  &     0  &     0  & \\beta^2 &    0    &    1    & \\gamma  &    1    \\\\\n",
    "  0      &     0  &     0  &     0  &     0   & \\beta^2 &    0    &    1    & \\gamma\n",
    "\\end{array}\\right]\n",
    "\\begin{Bmatrix}\n",
    "\\phi_{1,1}\\\\\n",
    "\\phi_{2,1}\\\\\n",
    "\\phi_{3,1}\\\\\n",
    "\\phi_{1,2}\\\\\n",
    "\\phi_{2,2}\\\\\n",
    "\\phi_{3,2}\\\\\n",
    "\\phi_{1,3}\\\\\n",
    "\\phi_{2,3}\\\\\n",
    "\\phi_{3,3}\n",
    "\\end{Bmatrix}\n",
    "= \\begin{Bmatrix}\n",
    "-\\phi_{0,1}-\\beta^2\\phi_{1,0}\\\\\n",
    "-\\beta^2\\phi_{2,0}\\\\\n",
    "-\\phi_{4,1}-\\beta^2\\phi_{3,0}\\\\\n",
    "-\\phi_{0,2}\\\\\n",
    "0\\\\\n",
    "-\\phi_{4,2}\\\\\n",
    "-\\phi_{0,3}-\\beta^2\\phi_{1,4}\\\\\n",
    "-\\beta^2\\phi_{2,4}\\\\\n",
    "-\\phi_{4,3}-\\beta^2\\phi_{3,4}\n",
    "\\end{Bmatrix}\n",
    "\\end{align*}\n",
    "\n",
    "donde $\\gamma=-2(1+\\beta^2)$"
   ]
  },
  {
   "cell_type": "markdown",
   "id": "24329cad",
   "metadata": {},
   "source": []
  },
  {
   "cell_type": "code",
   "execution_count": null,
   "id": "6dad08fe",
   "metadata": {},
   "outputs": [],
   "source": []
  }
 ],
 "metadata": {
  "kernelspec": {
   "display_name": "Python 3",
   "language": "python",
   "name": "python3"
  },
  "language_info": {
   "codemirror_mode": {
    "name": "ipython",
    "version": 3
   },
   "file_extension": ".py",
   "mimetype": "text/x-python",
   "name": "python",
   "nbconvert_exporter": "python",
   "pygments_lexer": "ipython3",
   "version": "3.6.13"
  },
  "toc": {
   "base_numbering": 1,
   "nav_menu": {},
   "number_sections": true,
   "sideBar": true,
   "skip_h1_title": true,
   "title_cell": "Tabla de Contenidos",
   "title_sidebar": "Contenidos",
   "toc_cell": true,
   "toc_position": {
    "height": "calc(100% - 180px)",
    "left": "10px",
    "top": "150px",
    "width": "165px"
   },
   "toc_section_display": true,
   "toc_window_display": true
  }
 },
 "nbformat": 4,
 "nbformat_minor": 5
}
