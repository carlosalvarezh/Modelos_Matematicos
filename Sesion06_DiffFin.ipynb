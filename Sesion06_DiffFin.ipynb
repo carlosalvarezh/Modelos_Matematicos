{
 "cells": [
  {
   "cell_type": "markdown",
   "id": "26b17e96",
   "metadata": {},
   "source": [
    "<h1 align=\"center\">Modelos Matemáticos de Ingeniería</h1>\n",
    "<h1 align=\"center\">Sesión 06 - Diferencias finitas</h1>\n",
    "<h1 align=\"center\">2021/02</h1>\n",
    "<h1 align=\"center\">MEDELLÍN - COLOMBIA </h1>"
   ]
  },
  {
   "cell_type": "markdown",
   "id": "7207fac6",
   "metadata": {},
   "source": [
    "<table>\n",
    " <tr align=left><td><img align=left src=\"https://github.com/carlosalvarezh/Dinamica/blob/main/Figs/CC-BY.png?raw=true\">\n",
    " <td>Text provided under a Creative Commons Attribution license, CC-BY. All code is made available under the FSF-approved MIT license.(c) Carlos Alberto Alvarez Henao</td>\n",
    "</table> "
   ]
  },
  {
   "cell_type": "markdown",
   "id": "353db754",
   "metadata": {},
   "source": [
    "*** \n",
    "\n",
    "***Docente:*** Carlos Alberto Álvarez Henao, I.C. D.Sc.\n",
    "\n",
    "***e-mail:*** carlosalvarezh@gmail.com\n",
    "\n",
    "***skype:*** carlos.alberto.alvarez.henao\n",
    "\n",
    "***Linkedin:*** https://www.linkedin.com/in/carlosalvarez5/\n",
    "\n",
    "***github:*** https://github.com/carlosalvarezh/Dinamica\n",
    "\n",
    "***Herramienta:*** [Jupyter](http://jupyter.org/)\n",
    "\n",
    "***Kernel:*** Python 3.9\n",
    "\n",
    "\n",
    "***"
   ]
  },
  {
   "cell_type": "markdown",
   "id": "bc3b8fd9",
   "metadata": {
    "toc": true
   },
   "source": [
    "<h1>Tabla de Contenidos<span class=\"tocSkip\"></span></h1>\n",
    "<div class=\"toc\"><ul class=\"toc-item\"><li><span><a href=\"#Diferencias-Finitas\" data-toc-modified-id=\"Diferencias-Finitas-1\"><span class=\"toc-item-num\">1&nbsp;&nbsp;</span>Diferencias Finitas</a></span><ul class=\"toc-item\"><li><span><a href=\"#Series-de-Taylor\" data-toc-modified-id=\"Series-de-Taylor-1.1\"><span class=\"toc-item-num\">1.1&nbsp;&nbsp;</span>Series de Taylor</a></span></li><li><span><a href=\"#Esquemas-para-la-primera-derivada-en-1D\" data-toc-modified-id=\"Esquemas-para-la-primera-derivada-en-1D-1.2\"><span class=\"toc-item-num\">1.2&nbsp;&nbsp;</span>Esquemas para la primera derivada en 1D</a></span><ul class=\"toc-item\"><li><span><a href=\"#Primer-orden-hacia-adelante-(forward)\" data-toc-modified-id=\"Primer-orden-hacia-adelante-(forward)-1.2.1\"><span class=\"toc-item-num\">1.2.1&nbsp;&nbsp;</span>Primer orden hacia adelante (forward)</a></span></li><li><span><a href=\"#Primer-orden-hacia-atrás-(backward)\" data-toc-modified-id=\"Primer-orden-hacia-atrás-(backward)-1.2.2\"><span class=\"toc-item-num\">1.2.2&nbsp;&nbsp;</span>Primer orden hacia atrás (backward)</a></span></li><li><span><a href=\"#Segundo-orden-(central)\" data-toc-modified-id=\"Segundo-orden-(central)-1.2.3\"><span class=\"toc-item-num\">1.2.3&nbsp;&nbsp;</span>Segundo orden (central)</a></span></li><li><span><a href=\"#Resumen-esquemas-para-la-primera-derivada\" data-toc-modified-id=\"Resumen-esquemas-para-la-primera-derivada-1.2.4\"><span class=\"toc-item-num\">1.2.4&nbsp;&nbsp;</span>Resumen esquemas para la primera derivada</a></span></li></ul></li><li><span><a href=\"#Esquemas-para-la-segunda-derivada-en-1D\" data-toc-modified-id=\"Esquemas-para-la-segunda-derivada-en-1D-1.3\"><span class=\"toc-item-num\">1.3&nbsp;&nbsp;</span>Esquemas para la segunda derivada en 1D</a></span></li><li><span><a href=\"#Ejemplos-de-implmentación-computacional\" data-toc-modified-id=\"Ejemplos-de-implmentación-computacional-1.4\"><span class=\"toc-item-num\">1.4&nbsp;&nbsp;</span>Ejemplos de implmentación computacional</a></span></li><li><span><a href=\"#Esquemas-en-2D\" data-toc-modified-id=\"Esquemas-en-2D-1.5\"><span class=\"toc-item-num\">1.5&nbsp;&nbsp;</span>Esquemas en 2D</a></span></li><li><span><a href=\"#Término-difusivo-no-uniforme-en-1D\" data-toc-modified-id=\"Término-difusivo-no-uniforme-en-1D-1.6\"><span class=\"toc-item-num\">1.6&nbsp;&nbsp;</span>Término difusivo no uniforme en 1D</a></span></li></ul></li><li><span><a href=\"#Molécula-computacional-de-una-aproximación-den-Diferencias-Finitas\" data-toc-modified-id=\"Molécula-computacional-de-una-aproximación-den-Diferencias-Finitas-2\"><span class=\"toc-item-num\">2&nbsp;&nbsp;</span>Molécula computacional de una aproximación den Diferencias Finitas</a></span><ul class=\"toc-item\"><li><span><a href=\"#Ejemplo-Ecuación-de-Laplace\" data-toc-modified-id=\"Ejemplo-Ecuación-de-Laplace-2.1\"><span class=\"toc-item-num\">2.1&nbsp;&nbsp;</span>Ejemplo Ecuación de Laplace</a></span></li></ul></li><li><span><a href=\"#Discretización-de-ecuaciones-por-el-método-de-Diferencias-Finitas\" data-toc-modified-id=\"Discretización-de-ecuaciones-por-el-método-de-Diferencias-Finitas-3\"><span class=\"toc-item-num\">3&nbsp;&nbsp;</span>Discretización de ecuaciones por el método de Diferencias Finitas</a></span><ul class=\"toc-item\"><li><span><a href=\"#Estado-estacionario\" data-toc-modified-id=\"Estado-estacionario-3.1\"><span class=\"toc-item-num\">3.1&nbsp;&nbsp;</span>Estado estacionario</a></span></li><li><span><a href=\"#Ejemplo:-ecuación-de-transporte-en-estado-estacionario-en-1D\" data-toc-modified-id=\"Ejemplo:-ecuación-de-transporte-en-estado-estacionario-en-1D-3.2\"><span class=\"toc-item-num\">3.2&nbsp;&nbsp;</span>Ejemplo: ecuación de transporte en estado estacionario en 1D</a></span></li><li><span><a href=\"#Ecuaciones-No-estacionarias\" data-toc-modified-id=\"Ecuaciones-No-estacionarias-3.3\"><span class=\"toc-item-num\">3.3&nbsp;&nbsp;</span>Ecuaciones No estacionarias</a></span><ul class=\"toc-item\"><li><span><a href=\"#Introducción\" data-toc-modified-id=\"Introducción-3.3.1\"><span class=\"toc-item-num\">3.3.1&nbsp;&nbsp;</span>Introducción</a></span></li><li><span><a href=\"#Discretización-de-ecuaciones-no-estacionarias\" data-toc-modified-id=\"Discretización-de-ecuaciones-no-estacionarias-3.3.2\"><span class=\"toc-item-num\">3.3.2&nbsp;&nbsp;</span>Discretización de ecuaciones no estacionarias</a></span></li><li><span><a href=\"#Discretización-explícita\" data-toc-modified-id=\"Discretización-explícita-3.3.3\"><span class=\"toc-item-num\">3.3.3&nbsp;&nbsp;</span>Discretización explícita</a></span></li><li><span><a href=\"#Discretización-implícita\" data-toc-modified-id=\"Discretización-implícita-3.3.4\"><span class=\"toc-item-num\">3.3.4&nbsp;&nbsp;</span>Discretización implícita</a></span></li><li><span><a href=\"#Resumen\" data-toc-modified-id=\"Resumen-3.3.5\"><span class=\"toc-item-num\">3.3.5&nbsp;&nbsp;</span>Resumen</a></span></li></ul></li><li><span><a href=\"#Discretización-multidimensional\" data-toc-modified-id=\"Discretización-multidimensional-3.4\"><span class=\"toc-item-num\">3.4&nbsp;&nbsp;</span>Discretización multidimensional</a></span></li></ul></li><li><span><a href=\"#Consistencia,-Convergencia-y-Estabilidad\" data-toc-modified-id=\"Consistencia,-Convergencia-y-Estabilidad-4\"><span class=\"toc-item-num\">4&nbsp;&nbsp;</span>Consistencia, Convergencia y Estabilidad</a></span><ul class=\"toc-item\"><li><span><a href=\"#Introducción\" data-toc-modified-id=\"Introducción-4.1\"><span class=\"toc-item-num\">4.1&nbsp;&nbsp;</span>Introducción</a></span></li></ul></li></ul></div>"
   ]
  },
  {
   "cell_type": "markdown",
   "id": "4ead7897",
   "metadata": {},
   "source": [
    "## Diferencias Finitas"
   ]
  },
  {
   "cell_type": "markdown",
   "id": "3332ef2c",
   "metadata": {},
   "source": [
    "En [análisis numérico](https://en.wikipedia.org/wiki/Numerical_analysis), los métodos de diferencias finitas (FDM) son una clase de técnicas numéricas para resolver ecuaciones diferenciales mediante la aproximación de derivadas con diferencias finitas. Tanto el dominio espacial como el intervalo de tiempo (si corresponde) se discretizan o se dividen en un número finito de pasos, y el valor de la solución en estos puntos discretos se aproxima resolviendo ecuaciones algebraicas que contienen diferencias finitas y valores de puntos cercanos.\n",
    "\n",
    "Los métodos de diferencias finitas convierten las ecuaciones diferenciales ordinarias (EDO) o las ecuaciones diferenciales parciales (PDE), que pueden ser no lineales, en un sistema de ecuaciones lineales que pueden resolverse mediante técnicas de álgebra matricial. Las computadoras modernas pueden realizar estos cálculos de álgebra lineal de manera eficiente, lo que, junto con su relativa facilidad de implementación, ha llevado al uso generalizado de FDM en el análisis numérico moderno. Hoy en día, FDM es uno de los enfoques más comunes para la solución numérica de PDE, junto con los métodos de elementos finitos."
   ]
  },
  {
   "cell_type": "markdown",
   "id": "5e289447",
   "metadata": {},
   "source": [
    "### Series de Taylor"
   ]
  },
  {
   "cell_type": "markdown",
   "id": "509997c6",
   "metadata": {},
   "source": [
    "La [serie de Taylor](https://en.wikipedia.org/wiki/Taylor_series) de una función es una suma infinita de términos que se expresan en términos de las derivadas de la función en un solo punto. Para las funciones más comunes, la función y la suma de su serie de Taylor son iguales cerca de este punto. Las series de Taylor llevan el nombre de [Brook Taylor](https://en.wikipedia.org/wiki/Brook_Taylor), quien las presentó en 1715.\n",
    "\n",
    "La suma parcial formada por los primeros $n + 1$ términos de una serie de Taylor es un polinomio de grado $n$ que se llama el *$n$-ésimo polinomio de Taylor de la función*. Los polinomios de Taylor son aproximaciones de una función, que generalmente se vuelven mejores a medida que $n$ aumenta. El [teorema de Taylor](https://en.wikipedia.org/wiki/Taylor%27s_theorem) da estimaciones cuantitativas sobre el error introducido por el uso de tales aproximaciones. Si la serie de Taylor de una función es convergente, su suma es el límite de la secuencia infinita de los polinomios de Taylor."
   ]
  },
  {
   "cell_type": "markdown",
   "id": "12039693",
   "metadata": {},
   "source": [
    "### Esquemas para la primera derivada en 1D"
   ]
  },
  {
   "cell_type": "markdown",
   "id": "b4bb3c07",
   "metadata": {},
   "source": [
    "De la [serie de Taylor](https://en.wikipedia.org/wiki/Taylor_series) \n",
    "\n",
    "<a id='Ec6_1'></a>\n",
    "\\begin{equation*}\n",
    "f(x_{i \\pm 1}) = f(x_i) \\pm f'(x_i)h + \\frac{f''(x_i)h^2}{2!} \\pm \\frac{f'''(x_i)h^3}{3!} + \\ldots\n",
    "\\label{eq:Ec6_1} \\tag{6.1}\n",
    "\\end{equation*}\n",
    "\n",
    "con $h=\\Delta x = x_{i+1}-x_i$ siendo el tamaño de paso.\n",
    "\n",
    "Dada que la serie contiene infinitos términos, partir de la ecuación [(6.1)](#Ec6_1) se pueden obtener infinitos esquemas numéricos para determinar cada una de las infinitas derivadas de dicho polinomio."
   ]
  },
  {
   "cell_type": "markdown",
   "id": "0359ec69",
   "metadata": {},
   "source": [
    "#### Primer orden hacia adelante (forward)"
   ]
  },
  {
   "cell_type": "markdown",
   "id": "16058ec9",
   "metadata": {},
   "source": [
    "De la ecuación [(6.1)](#Ec6_1) tomando los valores positivos, que involucran únicamente términos hacia adelante, se trunca la serie hasta la primera derivada y se realiza un despeje algebraico para llegar a:\n",
    "\n",
    "<a id='Ec6_2'></a>\n",
    "\\begin{equation*}\n",
    "f'(x_i) = \\frac{f(x_{i+1})-f(x_i)}{h} + \\mathcal{O}(h)\n",
    "\\label{eq:Ec6_2} \\tag{6.2}\n",
    "\\end{equation*}\n",
    "\n",
    "se puede observar que el término $\\mathcal{O}(h)$ indica que el error es de orden lineal, es decir, si se reduce el tamaño de paso, $h$, a la mitad, el error se reducirá a la mitad. Si se reduc el tamaño de paso a una cuarta parte, el error se reducirá, linealmente, una cuarta parte."
   ]
  },
  {
   "cell_type": "markdown",
   "id": "8fc4982b",
   "metadata": {},
   "source": [
    "#### Primer orden hacia atrás (backward)"
   ]
  },
  {
   "cell_type": "markdown",
   "id": "f1031e95",
   "metadata": {},
   "source": [
    "De la ecuación [(6.1)](#Ec6_1) tomando los valores negativos, que involucran únicamente términos hacia atrás (backward). Se trunca la serie hasta la primera derivada y se realiza un despeje algebraico para llegar a:\n",
    "\n",
    "<a id='Ec6_3'></a>\n",
    "\\begin{equation*}\n",
    "f'(x_i) = \\frac{f(x_{i})-f(x_{i-1})}{h} + \\mathcal{O}(h)\n",
    "\\label{eq:Ec6_3} \\tag{6.3}\n",
    "\\end{equation*}\n",
    "\n",
    "se observa que se llega a una expresión similar a la de la ecuación [(6.2)](#Ec6_2), pero de esta vez, se tiene en cuenta es el valor anterior al punto $x_i$. También se observa que el error es de orden lineal, por lo que se mantiene un esquema de primer orden.\n",
    "\n"
   ]
  },
  {
   "cell_type": "markdown",
   "id": "5906db12",
   "metadata": {},
   "source": [
    "<a id='DFC_dy'></a>\n",
    "#### Segundo orden (central)"
   ]
  },
  {
   "cell_type": "markdown",
   "id": "e521264b",
   "metadata": {},
   "source": [
    "Una forma de aumentar el orden de estos esquemas, es realizar el truncamiento de la *serie de Taylor* hasta la segunda derivada, hacia adelante y hacia atras, y realizar su resta aritmética.\n",
    "\n",
    "<a id='Ec6_4'></a>\n",
    "\\begin{equation*}\n",
    "\\begin{split}\n",
    "f(x_{i+1}) & = f(x_i) + f'(x_i)h + \\frac{f''(x_i)h^2}{2!} \\\\\n",
    "& - \\\\\n",
    "f(x_{i-1}) & = f(x_i) - f'(x_i)h + \\frac{f''(x_i)h^2}{2!} \\\\\n",
    "\\hline \\\\\n",
    "f(x_{i+1}) - f(x_{i-1}) & = 2 f'(x_i)h\n",
    "\\end{split}\n",
    "\\label{eq:Ec6_4} \\tag{6.4}\n",
    "\\end{equation*}\n",
    " \n",
    "de la anterior ecuación, despejando el término que corresponde a la primera derivada queda:\n",
    "\n",
    "<a id='Ec6_5'></a>\n",
    "\\begin{equation*}\n",
    "\\begin{split}\n",
    "f'(x_i) = \\frac{f(x_{i+1}) - f(x_{i-1})}{2h} + \\mathcal{O}(h^2)\n",
    "\\end{split}\n",
    "\\label{eq:Ec6_5} \\tag{6.5}\n",
    "\\end{equation*}\n",
    "\n",
    "se llega al esquema de diferencias finitas central para la primera derivada, que es de orden dos, es decir, si se disminuye el tamaño de paso, $h$, a la mitad, el error se disminuye una cuarta partes. En principio, esta es una mejor aproximación que los dos esquemas anteriores. La selección del esquema dependerá de la disponibilidad de puntos y del fenómeno físico a tratar."
   ]
  },
  {
   "cell_type": "markdown",
   "id": "fbd824ab",
   "metadata": {},
   "source": [
    "#### Resumen esquemas para la primera derivada"
   ]
  },
  {
   "cell_type": "markdown",
   "id": "52dff37f",
   "metadata": {},
   "source": [
    "Como la serie de Taylor es infinita, se podrían determinar infinitos esquemas de diferentes ordenes para la primera derivada. En la siguiente tabla se presentan algunos esquemas de diferencias finitas para la primera derivada de diferentes órdenes. Se deja al estudiante la consulta de otros esquemas.\n",
    "\n",
    "|***Esquema***|***Función***|***Error***|\n",
    "|:-----:|:-----:|:---:|\n",
    "|***Forward***|$$f´(x_0)=\\frac{f(x_0+h)-f(x_0)}{h}$$|$$\\mathcal{O}(h)$$|\n",
    "|       |$$f´(x_0)=\\frac{-3f(x_0)+4f(x_0+h)-f(x_0+2h)}{2h}$$|$$\\mathcal{O}(h^2)$$|\n",
    "|***Central***|$$f´(x_0)=\\frac{f(x_0+h)-f(x_0-h)}{2h}$$|$$\\mathcal{O}(h^2)$$|\n",
    "|       |$$f´(x_0)=\\frac{f(x_0-2h)-8f(x_0-h)+8f(x_0+h)-f(x_0+2h)}{12h}$$|$$\\mathcal{O}(h^4)$$|\n",
    "|***Backward***|$$f´(x_0)=\\frac{f(x_0)-f(x_0-h)}{h}$$|$$\\mathcal{O}(h)$$|\n",
    "|        |$$f´(x_0)=\\frac{f(x_0-2h)-4f(x_0-h)+3f(x_0)}{2h}$$|$$\\mathcal{O}(h^2)$$|\n"
   ]
  },
  {
   "cell_type": "markdown",
   "id": "0587464d",
   "metadata": {},
   "source": [
    "<a id='DFC_d2y'></a>\n",
    "### Esquemas para la segunda derivada en 1D"
   ]
  },
  {
   "cell_type": "markdown",
   "id": "79a81b6a",
   "metadata": {},
   "source": [
    "Siguiendo con la misma forma de abordar el problema para la primera derivada, si se amplian los términos en la serie de Taylor hasta la tercera derivada tanto hacia adelante como hacia atrás, y se suman, se llega a:\n",
    "\n",
    "<a id='Ec6_6'></a>\n",
    "\\begin{equation*}\n",
    "\\begin{split}\n",
    "f(x_{i+1}) & = f(x_i) + f'(x_i)h + \\frac{f''(x_i)h^2}{2!} + \\frac{f'''(x_i)h^3}{3!}\\\\\n",
    "& + \\\\\n",
    "f(x_{i-1}) & = f(x_i) - f'(x_i)h + \\frac{f''(x_i)h^2}{2!} - \\frac{f'''(x_i)h^3}{3!}\\\\\n",
    "\\hline \\\\\n",
    "f(x_{i+1}) + f(x_{i-1}) & = 2 f(x_i) + 2f''(x_i)\\frac{h^2}{2!} + \\mathcal{O}(h^3)\n",
    "\\end{split}\n",
    "\\label{eq:Ec6_6} \\tag{6.6}\n",
    "\\end{equation*}\n",
    " \n",
    "Despejando para el término de la segunda derivada, se llega a:\n",
    "\n",
    "<a id='Ec6_7'></a>\n",
    "\\begin{equation*}\n",
    "\\begin{split}\n",
    "f''(x_i) = \\frac{f(x_{i+1}) - 2f(x_i) + f(x_{i-1})}{h^2} + \\mathcal{O}(h^3)\n",
    "\\end{split}\n",
    "\\label{eq:Ec6_7} \\tag{6.7}\n",
    "\\end{equation*}\n",
    "\n",
    "Que corresponde a un esquema de diferencias finitas de segundo orden para la segunda derivada. A este esquema también se le llama \"*molécula de tres puntos*\"\n",
    "\n",
    "Igual que para la primera derivada, se pueden determinar infinitos esquemas de diferentes órdenes para la segunda derivada, y derivadas superiores. A continuación se muestra un cuadro resumen de algunos esquemas de diferencias finitas para la segunda derivada. Se deja al estudiante la revisión de esquemas de mayor orden para la segunda derivada y derivadas superiores.\n",
    "\n",
    "|***Esquema***|***Función***|***Error***|\n",
    "|:-----:|:-----:|:---:|\n",
    "|***Forward***|$$f''(x_0)=\\frac{f(x_0)-2f(x_0+h)+f(x_0+2h)}{h^2}$$|$$\\mathcal{O}(h)$$|\n",
    "|       |$$f''(x_0)=\\frac{2f(x_0)-5f(x_0+h)+4f(x_0+2h)-f(x_0+3h)}{h^2}$$|$$\\mathcal{O}(h^2)$$|\n",
    "|***Central***|$$f''(x_0)=\\frac{f(x_0-h)-2f(x_0)+f(x_0+h)}{h^2}$$|$$\\mathcal{O}(h^2)$$|\n",
    "|       |$$f''(x_0)=\\frac{-f(x_0-2h)+16f(x_0-h)-30f(x_0)+16f(x_0+h)-f(x_0+2h)}{12h^2}$$|$$\\mathcal{O}(h^4)$$|\n",
    "|***Backward***|$$f''(x_0)=\\frac{f(x_0-2h)-2f(x_0-h)+f(x_0)}{h}$$|$$\\mathcal{O}(h^2)$$|\n",
    "|        |$$f''(x_0)=\\frac{-f(x_0-3h)+4f(x_0-2h)-5f(x_0-h)+2f(x_0)}{h^2}$$|$$\\mathcal{O}(h^2)$$|\n"
   ]
  },
  {
   "cell_type": "markdown",
   "id": "b339a2ee",
   "metadata": {},
   "source": [
    "### Ejemplos de implmentación computacional"
   ]
  },
  {
   "cell_type": "code",
   "execution_count": null,
   "id": "bc63600b",
   "metadata": {},
   "outputs": [],
   "source": []
  },
  {
   "cell_type": "markdown",
   "id": "4602cf9d",
   "metadata": {},
   "source": [
    "### Esquemas en 2D"
   ]
  },
  {
   "cell_type": "markdown",
   "id": "2ab01053",
   "metadata": {},
   "source": [
    "De la serie truncada de Taylor en 2D, sea $\\phi=\\phi(x,y)$\n",
    "\n",
    "<a id='Ec6_8'></a>\n",
    "\\begin{equation*}\n",
    "\\begin{split}\n",
    "\\phi(x_{i+1},y_{i+1})=\\phi(x_i,y_i)+ \\left.\\Delta x \\frac{\\partial \\phi}{\\partial x}\\right|_{i,j}+ \\left.\\Delta y \\frac{\\partial \\phi}{\\partial y}\\right|_{i,j} + \\left.\\frac{(\\Delta x)^2}{2!}\\frac{\\partial^2\\phi}{\\partial x^2}\\right|_{i,j} + \\left. 2\\frac{(\\Delta x)(\\Delta y)}{2!}\\frac{\\partial^2 \\phi}{\\partial x \\partial y} \\right|_{i,j}+ \\left.\\frac{(\\Delta y)^2}{2!}\\frac{\\partial^2\\phi}{\\partial y^2}\\right|_{i,j} + R_N\n",
    "\\end{split}\n",
    "\\label{eq:Ec6_8} \\tag{6.8}\n",
    "\\end{equation*}\n",
    "\n",
    "De la anterior ecuación, el único término que faltaría por determinar es el correspondiente a la derivada mixta en $x$ y $y$, que está dada por:\n",
    "\n",
    "<a id='Ec6_9'></a>\n",
    "\\begin{equation*}\n",
    "\\begin{split}\n",
    "\\frac{\\partial^2 \\phi}{\\partial x \\partial y} = \\frac{\\phi_{i+1,j+1}-\\phi_{i+1,j-1}-\\phi_{i-1,j+1}+\\phi_{i-1,j-1}}{4(\\Delta x)(\\Delta y)} + O \\left[ (\\Delta x)^2,(\\Delta y)^2 \\right ]\n",
    "\\end{split}\n",
    "\\label{eq:Ec6_9} \\tag{6.9}\n",
    "\\end{equation*}\n"
   ]
  },
  {
   "cell_type": "markdown",
   "id": "48bca498",
   "metadata": {},
   "source": [
    "### Término difusivo no uniforme en 1D"
   ]
  },
  {
   "cell_type": "markdown",
   "id": "792c23fb",
   "metadata": {},
   "source": [
    "<a id='Ec6_10'></a>\n",
    "\\begin{equation*}\n",
    "\\begin{split}\n",
    "\\frac{\\partial}{\\partial x}\\left( \\Gamma \\frac{\\partial \\phi}{\\partial x} \\right)\n",
    "\\end{split}\n",
    "\\label{eq:Ec6_10} \\tag{6.10}\n",
    "\\end{equation*}\n",
    "\n",
    "donde $\\Gamma$ es el coeficiente de difusión o viscosidad\n",
    "\n",
    "<a id='Ec6_11'></a>\n",
    "\\begin{equation*}\n",
    "\\begin{split}\n",
    "\\left. \\frac{\\partial}{\\partial x}\\left( \\Gamma \\frac{\\partial \\phi}{\\partial x} \\right) \\right |_{i}=\\frac{\\left(\\Gamma \\frac{\\partial \\phi}{\\partial x}\\right)_{i+1/2}-\\left(\\Gamma \\frac{\\partial \\phi}{\\partial x}\\right)_{i-1/2}}{\\Delta x}+O(\\Delta x)^2\n",
    "\\end{split}\n",
    "\\label{eq:Ec6_11} \\tag{6.11}\n",
    "\\end{equation*}\n",
    "\n",
    "Se realiza entonces una aproximación en los puntos $x_{i \\pm 1/2}$\n",
    "\n",
    "<a id='Ec6_12'></a>\n",
    "\\begin{equation*}\n",
    "\\begin{split}\n",
    "\\left. \\frac{\\partial}{\\partial x}\\left( \\Gamma \\frac{\\partial \\phi}{\\partial x} \\right) \\right |_{i} = \\frac{\\Gamma_{i+1/2}\\frac{\\phi_{i+1}-\\phi_i}{\\Delta x}-\\Gamma_{i-1/2}\\frac{\\phi_{i}-\\phi_{i-1}}{\\Delta x}}{\\Delta x}+O(\\Delta x)^2\n",
    "\\end{split}\n",
    "\\label{eq:Ec6_12} \\tag{6.12}\n",
    "\\end{equation*}\n",
    "\n",
    "simplificando,\n",
    "\n",
    "<a id='Ec6_13'></a>\n",
    "\\begin{equation*}\n",
    "\\begin{split}\n",
    "\\left. \\frac{\\partial}{\\partial x}\\left( \\Gamma \\frac{\\partial \\phi}{\\partial x} \\right) \\right |_{i} = \\Gamma_{i+1/2} \\frac{\\phi_{i+1}-\\phi_i}{(\\Delta x)^2}-\\Gamma_{i-1/2}\\frac{\\phi_{i}-\\phi_{i-1}}{(\\Delta x)^2}+O(\\Delta x)^2\n",
    "\\end{split}\n",
    "\\label{eq:Ec6_13} \\tag{6.13}\n",
    "\\end{equation*}\n",
    "\n",
    "Ahora, promediando los valores de $\\Gamma_{i \\pm1/2}$,\n",
    "\n",
    "<a id='Ec6_14'></a>\n",
    "\\begin{equation*}\n",
    "\\begin{split}\n",
    "\\Gamma_{i+1/2}=\\frac{\\Gamma_i+\\Gamma_{i+1}}{2} \\quad\\quad \\Gamma_{i-1/2}=\\frac{\\Gamma_i+\\Gamma_{i-1}}{2} \n",
    "\\end{split}\n",
    "\\label{eq:Ec6_14} \\tag{6.14}\n",
    "\\end{equation*}"
   ]
  },
  {
   "cell_type": "markdown",
   "id": "133ea21f",
   "metadata": {},
   "source": [
    "## Molécula computacional de una aproximación den Diferencias Finitas"
   ]
  },
  {
   "cell_type": "markdown",
   "id": "e70c8275",
   "metadata": {},
   "source": [
    "### Ejemplo Ecuación de Laplace"
   ]
  },
  {
   "cell_type": "markdown",
   "id": "e72102cb",
   "metadata": {},
   "source": [
    "En cálculo vectorial, la [ecuación de Laplace](https://en.wikipedia.org/wiki/Laplace%27s_equation) es una ecuación en derivadas parciales de segundo orden de tipo elíptico, que recibe ese nombre en honor al físico y matemático Pierre-Simon Laplace. La ecuació de Laplace en dos dimensiones se expresa como:\n",
    "\n",
    "<a id='Ec6_15'></a>\n",
    "\\begin{equation*}\n",
    "\\begin{split}\n",
    "\\nabla^2 \\phi & = 0 \\\\\n",
    "& = \\left. \\frac{\\partial^2 \\phi}{\\partial x^2} \\right|_{i,j} + \\left. \\frac{\\partial^2 \\phi}{\\partial y^2} \\right|_{i,j}\n",
    "\\end{split}\n",
    "\\label{eq:Ec6_15} \\tag{6.15}\n",
    "\\end{equation*}\n",
    "\n",
    "Empleando un esquema de diferencias finitas central para la segunda derivada, se tiene la discretización espacial como:\n",
    "\n",
    "<a id='Ec6_16'></a>\n",
    "\\begin{equation*}\n",
    "\\begin{split}\n",
    "\\nabla^2 \\phi & = \\frac{\\phi_{i+1,j}-2\\phi_{i,j}+\\phi_{i-1,j}}{(\\Delta x)^2} + \\frac{\\phi_{i,j+1}-2\\phi_{i,j}+\\phi_{i,j-1}}{(\\Delta y)^2} + O \\left[ (\\Delta x)^2,(\\Delta y)^2 \\right ]\n",
    "\\end{split}\n",
    "\\label{eq:Ec6_16} \\tag{6.16}\n",
    "\\end{equation*}\n",
    "\n",
    "El anterior esquema genera lo que se denomina como *molécula de cinco puntos* o *fórmula de cinco puntos*\n",
    "\n",
    "<p float=\"center\">\n",
    "  <img src=\"https://github.com/carlosalvarezh/Modelos_Matematicos/blob/main/Figs/S06_F02_molecula5ptos.PNG?raw=true\" width=\"250\" />\n",
    "</p>\n",
    "\n",
    "<div style=\"text-align: right\"> Fuente: <a href=\"\">Propio</a> </div>"
   ]
  },
  {
   "cell_type": "markdown",
   "id": "351d3d22",
   "metadata": {},
   "source": [
    "## Discretización de ecuaciones por el método de Diferencias Finitas"
   ]
  },
  {
   "cell_type": "markdown",
   "id": "163151f3",
   "metadata": {},
   "source": [
    "### Estado estacionario"
   ]
  },
  {
   "cell_type": "markdown",
   "id": "86f92dea",
   "metadata": {},
   "source": [
    "[Ecuaciones en estado estacionario](https://en.wikipedia.org/wiki/Steady_state), son ecuaciones que no dependel del tiempo. A manera de ejemplo, considérese la ecuación de Laplace en $2D$ discretizada por la fórmula de cinco puntos en una región $\\Omega$ cuadrada con condiciones de contorno Dirichlet $\\phi(x,y)=\\Theta(x,y)$ en la frontera $\\delta \\Omega$\n",
    "\n",
    "<a id='Ec6_17'></a>\n",
    "\\begin{equation*}\n",
    "\\begin{split}\n",
    "\\nabla^2 \\phi & = \\frac{\\partial^2 \\phi}{\\partial x^2} + \\frac{\\partial^2 \\phi}{\\partial y^2}=0\n",
    "\\end{split}\n",
    "\\label{eq:Ec6_17} \\tag{6.17}\n",
    "\\end{equation*}\n",
    "\n",
    "Discretizando esta ecuación con la ecuación [(6.16)](#6_16), y reordenando los términos, se llega a:\n",
    "\n",
    "<a id='Ec6_18'></a>\n",
    "\\begin{equation*}\n",
    "\\begin{split}\n",
    "\\phi_{i+1,j}+\\phi_{i-1,j}-2(1+\\beta^2)\\phi_{i,j}+\\beta^2(\\phi_{i,j+1}+\\phi_{i,j-1})=0\n",
    "\\end{split}\n",
    "\\label{eq:Ec6_18} \\tag{6.18}\n",
    "\\end{equation*}\n",
    "\n",
    "donde $\\beta=\\frac{\\Delta x}{\\Delta y}$.\n",
    "\n",
    "Teniendo una discretización del dominio como se muestra en la figura:\n",
    "\n",
    "<p float=\"center\">\n",
    "  <img src=\"https://github.com/carlosalvarezh/Modelos_Matematicos/blob/main/Figs/S06_F03_Laplace.PNG?raw=true\" width=\"250\" />\n",
    "</p>\n",
    "\n",
    "<div style=\"text-align: right\"> Fuente: <a href=\"\">Propio</a> </div>\n",
    "\n",
    "La ecuación [(6.18)](#Ec6_18) será válida para todos los puntos discretos $(i,j)$ al interior de la región (nodos en color naranja). Dando valores a los subíndices $(i,j)$ desde $0$ hasta $4$ y reemplazando en la ecuación [(6.18)](#Ec6_18), se llega al siguente sistema de ecuaciones:\n",
    "\n",
    "<a id='Ec6_19'></a>\n",
    "\\begin{equation*}\n",
    "\\begin{split}\n",
    "(1,1) : \\phi_{2,1} + \\phi_{0,1} - 2(1+\\beta^2)\\phi_{1,1} + \\beta^2(\\phi_{1,2} + \\phi_{1,0})=0 \\\\\n",
    "(2,1) : \\phi_{3,1} + \\phi_{1,1} - 2(1+\\beta^2)\\phi_{2,1} + \\beta^2(\\phi_{2,2} + \\phi_{2,0})=0 \\\\\n",
    "(3,1) : \\phi_{4,1} + \\phi_{2,1} - 2(1+\\beta^2)\\phi_{3,1} + \\beta^2(\\phi_{3,2} + \\phi_{3,0})=0 \\\\\n",
    "(1,2) : \\phi_{2,2} + \\phi_{0,2} - 2(1+\\beta^2)\\phi_{1,2} + \\beta^2(\\phi_{1,3} + \\phi_{1,1})=0 \\\\\n",
    "(2,2) : \\phi_{3,2} + \\phi_{1,2} - 2(1+\\beta^2)\\phi_{2,2} + \\beta^2(\\phi_{2,3} + \\phi_{2,1})=0 \\\\\n",
    "(3,2) : \\phi_{4,2} + \\phi_{2,2} - 2(1+\\beta^2)\\phi_{3,2} + \\beta^2(\\phi_{3,3} + \\phi_{3,1})=0 \\\\\n",
    "(1,3) : \\phi_{2,3} + \\phi_{0,3} - 2(1+\\beta^2)\\phi_{1,3} + \\beta^2(\\phi_{1,4} + \\phi_{1,2})=0 \\\\\n",
    "(2,3) : \\phi_{3,3} + \\phi_{1,3} - 2(1+\\beta^2)\\phi_{2,3} + \\beta^2(\\phi_{2,4} + \\phi_{2,2})=0 \\\\\n",
    "(3,3) : \\phi_{4,3} + \\phi_{2,3} - 2(1+\\beta^2)\\phi_{3,3} + \\beta^2(\\phi_{3,4} + \\phi_{3,2})=0 \n",
    "\\end{split}\n",
    "\\label{eq:Ec6_19} \\tag{6.19}\n",
    "\\end{equation*}\n",
    "\n",
    "Expresando el anterior sistema de ecuaciones lineales en forma matricial se llega a un sistema $Ax=b$\n",
    "\n",
    "\\begin{align*}\n",
    "\\left[\\begin{array}{ccccccccc}\n",
    "  \\gamma &     1  &    0   &\\beta^2 &    0    &    0    &    0    &    0    &    0    \\\\\n",
    "  1      & \\gamma &    1   &    0   & \\beta^2 &    0    &    0    &    0    &    0    \\\\\n",
    "  0      &     1  & \\gamma &    0   &    0    & \\beta^2 &    0    &    0    &    0    \\\\\n",
    "  \\beta^2&     0  &    0   & \\gamma &    1    &    0    & \\beta^2 &    0    &    0    \\\\\n",
    "  0      & \\beta^2&    0   &    1   & \\gamma  &    1    &    0    & \\beta^2 &    0    \\\\\n",
    "  0      &     0  & \\beta^2&    0   &    1    & \\gamma  &    0    &    0    & \\beta^2 \\\\\n",
    "  0      &     0  &     0  & \\beta^2&    0    &    0    & \\gamma  &    1    &    0    \\\\\n",
    "  0      &     0  &     0  &     0  & \\beta^2 &    0    &    1    & \\gamma  &    1    \\\\\n",
    "  0      &     0  &     0  &     0  &     0   & \\beta^2 &    0    &    1    & \\gamma\n",
    "\\end{array}\\right]\n",
    "\\begin{Bmatrix}\n",
    "\\phi_{1,1}\\\\\n",
    "\\phi_{2,1}\\\\\n",
    "\\phi_{3,1}\\\\\n",
    "\\phi_{1,2}\\\\\n",
    "\\phi_{2,2}\\\\\n",
    "\\phi_{3,2}\\\\\n",
    "\\phi_{1,3}\\\\\n",
    "\\phi_{2,3}\\\\\n",
    "\\phi_{3,3}\n",
    "\\end{Bmatrix}\n",
    "= \\begin{Bmatrix}\n",
    "-\\phi_{0,1}-\\beta^2\\phi_{1,0}\\\\\n",
    "-\\beta^2\\phi_{2,0}\\\\\n",
    "-\\phi_{4,1}-\\beta^2\\phi_{3,0}\\\\\n",
    "-\\phi_{0,2}\\\\\n",
    "0\\\\\n",
    "-\\phi_{4,2}\\\\\n",
    "-\\phi_{0,3}-\\beta^2\\phi_{1,4}\\\\\n",
    "-\\beta^2\\phi_{2,4}\\\\\n",
    "-\\phi_{4,3}-\\beta^2\\phi_{3,4}\n",
    "\\end{Bmatrix}\n",
    "\\end{align*}\n",
    "\n",
    "donde $\\gamma=-2(1+\\beta^2)$"
   ]
  },
  {
   "cell_type": "markdown",
   "id": "24329cad",
   "metadata": {},
   "source": [
    "### Ejemplo: ecuación de transporte en estado estacionario en 1D"
   ]
  },
  {
   "attachments": {},
   "cell_type": "markdown",
   "id": "e2a4c840",
   "metadata": {},
   "source": [
    "Resuelva la ecuación de transporte de convección - difusión homoegénea en estado estacionario en 1D dada por\n",
    "\n",
    "$$-\\frac{d^2\\phi}{dx^2}+\\beta \\frac{d\\phi}{dx}=0$$\n",
    "\n",
    "sometida a las condiciones de contorno\n",
    "\n",
    "$$\\phi(0)=0 \\quad \\quad \\phi(1) = 1$$\n",
    "\n",
    "Se va a resolver numéricamente esta ecuación utilizando  un esquema de diferencias finitas centrales (Leapfrog). Discretizando la ecuación dada por los esquemas indicados, se llega a:\n",
    "\n",
    "$$-\\frac{1}{h^2} \\left[ \\phi(x_{i-1})-2\\phi(x_i)+\\phi(x_{i+1})\\right]+\\frac{\\beta}{2h}\\left[ \\phi(x_{i+1})-\\phi(x_{i-1})\\right]=0$$\n",
    "\n",
    "organizando términos,\n",
    "\n",
    "$$(2+\\beta h)\\phi(x_{i-1})-4\\phi(x_i)+(2-\\beta h)\\phi(x_{i+1})$$\n",
    "\n",
    "tomando como tamaño de paso inicialmente el valor de $h=0.1$ y por las condiciones de contorno dadas, se tiene la siguiente distribución de nodos y elementos (\"malla\"):\n",
    "\n",
    "<p float=\"center\">\n",
    "  <img src=\"https://github.com/carlosalvarezh/Modelos_Matematicos/blob/main/Figs/S06_F09_Transporte1D.PNG?raw=true\" width=\"500\" />\n",
    "</p>\n",
    "\n",
    "<div style=\"text-align: right\"> Fuente: <a href=\"\">Propio</a> </div>\n",
    "\n",
    "Dando valores a $i$ desde $1$ hasta $9$, se tiene el siguiente conjunto de ecuaciones:\n",
    "\n",
    "\\begin{align*}\n",
    "\\begin{array}{cccc}\n",
    "i=1:& -4\\phi(x_1)+(2-\\beta h)\\phi(x_2)&=-(2+\\beta h)\\phi(x_0) \\\\\n",
    "i=2:& (2+\\beta h)\\phi(x_1)-4\\phi(x_2)+(2-\\beta h)\\phi(x_3)&=0 \\\\\n",
    "i=3:& (2+\\beta h)\\phi(x_2)-4\\phi(x_3)+(2-\\beta h)\\phi(x_4)&=0 \\\\\n",
    "i=4:& (2+\\beta h)\\phi(x_3)-4\\phi(x_4)+(2-\\beta h)\\phi(x_5)&=0 \\\\\n",
    "i=5:& (2+\\beta h)\\phi(x_4)-4\\phi(x_5)+(2-\\beta h)\\phi(x_6)&=0 \\\\\n",
    "i=6:& (2+\\beta h)\\phi(x_5)-4\\phi(x_6)+(2-\\beta h)\\phi(x_7)&=0 \\\\\n",
    "i=7:& (2+\\beta h)\\phi(x_6)-4\\phi(x_7)+(2-\\beta h)\\phi(x_8)&=0 \\\\\n",
    "i=8:& (2+\\beta h)\\phi(x_7)-4\\phi(x_8)+(2-\\beta h)\\phi(x_9)&=0 \\\\\n",
    "i=9:& (2+\\beta h)\\phi(x_8)-4\\phi(x_9)&=-(2-\\beta h)\\phi(x_{10})\n",
    "\\end{array}\n",
    "\\end{align*}\n",
    "\n",
    "los nodos $i=0$ e $i=10$ corresponderán al primer y último nodo de la malla, cuyos valores $\\phi(x_0)$ y $\\phi(x_{10})$ son dados por las condiciones de contorno"
   ]
  },
  {
   "cell_type": "code",
   "execution_count": null,
   "id": "78ed8d45",
   "metadata": {},
   "outputs": [],
   "source": []
  },
  {
   "cell_type": "markdown",
   "id": "ff8322eb",
   "metadata": {},
   "source": [
    "<div class=\"alert alert alert-success\">\n",
    "$\\color{red}{\\textbf{Actividad para ser realizada por el estudiante:}}$\n",
    "\n",
    "<ul>\n",
    "<li>Se deja al estudiante revisar la solucion para los esquemas:\n",
    "\n",
    "- Upwind\n",
    "\n",
    "- Viscosidad Artificial.\n",
    "</li>\n",
    "</ul>\n",
    "</div>"
   ]
  },
  {
   "cell_type": "markdown",
   "id": "aff31b63",
   "metadata": {},
   "source": [
    "### Ecuaciones No estacionarias"
   ]
  },
  {
   "cell_type": "markdown",
   "id": "30f561cd",
   "metadata": {},
   "source": [
    "#### Introducción"
   ]
  },
  {
   "cell_type": "markdown",
   "id": "2e3f33d4",
   "metadata": {},
   "source": [
    "Las ecuaciones [no estacionarias](https://en.wikipedia.org/wiki/Transient_state) (transient, en inglés) o dependientes del tiempo, exigen el cálculo de la solución en intervalos sucesivos de tiempo\n",
    "\n",
    "<a id='Ec6_20'></a>\n",
    "\\begin{equation*}\n",
    "\\begin{split}\n",
    "t_0+\\Delta t, t_0 + 2\\Delta t, t_0 + 3\\Delta t, \\ldots, t_f - \\Delta t, t_f \n",
    "\\end{split}\n",
    "\\label{eq:Ec6_20} \\tag{6.20}\n",
    "\\end{equation*}\n",
    "\n",
    "Una de las ecuaciones más representativas de este tipo es la [ecuación de calor](https://en.wikipedia.org/wiki/Heat_equation), dada por\n",
    "\n",
    "<a id='Ec6_21'></a>\n",
    "\\begin{equation*}\n",
    "\\begin{split}\n",
    "\\frac{\\partial T}{\\partial t}=\\alpha\\frac{\\partial^2T}{\\partial x^2}\n",
    "\\end{split}\n",
    "\\label{eq:Ec6_21} \\tag{6.21}\n",
    "\\end{equation*}\n",
    "\n",
    "sometida a las condiciones auxiliares:\n",
    "\n",
    "- ***Iniciales***\n",
    "\n",
    "<a id='Ec6_22'></a>\n",
    "\\begin{equation*}\n",
    "\\begin{split}\n",
    "T_i^0=T(i\\Delta x,t_0)=T_{inic}\n",
    "\\end{split}\n",
    "\\label{eq:Ec6_22} \\tag{6.22}\n",
    "\\end{equation*}\n",
    "\n",
    "\n",
    "- ***Contorno:*** tipo Dirichlet\n",
    "\n",
    "<a id='Ec6_23'></a>\n",
    "\\begin{equation*}\n",
    "\\begin{split}\n",
    "T(0,t) &= T_0 \\\\\n",
    "T(IM,t) &= T_{IM}\n",
    "\\end{split}\n",
    "\\label{eq:Ec6_23} \\tag{6.23}\n",
    "\\end{equation*}\n"
   ]
  },
  {
   "cell_type": "markdown",
   "id": "bef9f99d",
   "metadata": {},
   "source": [
    "#### Discretización de ecuaciones no estacionarias"
   ]
  },
  {
   "cell_type": "markdown",
   "id": "0b7b602e",
   "metadata": {},
   "source": [
    "La ecuación [(6.21)](#Ec6_21) tiene dos variables independientes, $x$ y $t$. Se busca determinar un vector $T^{(n)}$ que contenga las temperaturas, para cada nivel de tiempo $n$, y para todos los nodos de la malla.\n",
    "\n",
    "<p float=\"center\">\n",
    "  <img src=\"https://github.com/carlosalvarezh/Modelos_Matematicos/blob/main/Figs/S06_F04_Transient1.PNG?raw=true\" width=\"250\" />\n",
    "</p>\n",
    "\n",
    "<div style=\"text-align: right\"> Fuente: <a href=\"\">Propio</a> </div>\n",
    "\n",
    "Filas del mismo color representan la discretización espacial en $1D$. La dirección vertical representa el tiempo.\n",
    "\n",
    "Ahora, discretizando la ecuación [(6.21)](#Ec6_21) en la coordenada espacial en un punto $x_i$, empleando un [esquema de diferencias finitas central para la segunda derivada](#DFC_d2y) dado por la ecuación [(6.7)](#Ec6_7):\n",
    "\n",
    "<a id='Ec6_24'></a>\n",
    "\\begin{equation*}\n",
    "\\begin{split}\n",
    "\\left. \\frac{\\partial T}{\\partial t} \\right|_{i}=\\alpha\\frac{T_{i-1}-2T_i+T_{i+1}}{(\\Delta x)^2} + \\mathcal{O}(\\Delta x)^2\n",
    "\\end{split}\n",
    "\\label{eq:Ec6_24} \\tag{6.24}\n",
    "\\end{equation*}\n",
    "\n",
    "Para discretizar la ecuación [(6.21)](#Ec6_21) en la coordenada temporal se emplearán dos enfoques diferentes: [explícita e implícita](https://en.wikipedia.org/wiki/Explicit_and_implicit_methods):"
   ]
  },
  {
   "cell_type": "markdown",
   "id": "78d95a32",
   "metadata": {},
   "source": [
    "#### Discretización explícita"
   ]
  },
  {
   "cell_type": "markdown",
   "id": "4bbea843",
   "metadata": {},
   "source": [
    "La ecuación [(6.24)](#Ec6_24) discretizada en un nivel de tiempo $n$ toma la forma:\n",
    "\n",
    "<a id='Ec6_25'></a>\n",
    "\\begin{equation*}\n",
    "\\begin{split}\n",
    "\\left. \\frac{\\partial T}{\\partial t} \\right|_{i}^{(n)}=\\alpha\\frac{T_{i-1}^{(n)}-2T_i^{(n)}+T_{i+1}^{(n)}}{(\\Delta x)^2} + \\mathcal{O}(\\Delta x)^2\n",
    "\\end{split}\n",
    "\\label{eq:Ec6_25} \\tag{6.25}\n",
    "\\end{equation*}\n",
    "\n",
    "Relacionando los valores de $T_i^{(n+1)}$ con los de $T_i^{(n)}$, utilizando un esquema en Diferencias Finitas hacia adelante (Forward) para la primera derivada:\n",
    "\n",
    "<a id='Ec6_26'></a>\n",
    "\\begin{equation*}\n",
    "\\begin{split}\n",
    "\\left. \\frac{\\partial T}{\\partial t} \\right|_{i}^{(n)}=\\frac{T_{i}^{(n+1)}-T_{i}^{(n)}}{\\Delta t} + \\mathcal{O}(\\Delta t)\n",
    "\\end{split}\n",
    "\\label{eq:Ec6_26} \\tag{6.26}\n",
    "\\end{equation*}\n",
    "\n",
    "Igualando las ecuaciones [(6.25)](#Ec6_25) y [(6.26)](#Ec6_26), se llega al siguiente esquema:\n",
    "\n",
    "<a id='Ec6_27'></a>\n",
    "\\begin{equation*}\n",
    "\\begin{split}\n",
    "\\frac{T_{i}^{(n+1)}-T_{i}^{(n)}}{\\Delta t} = \\alpha\\frac{T_{i-1}^{(n)}-2T_i^{(n)}+T_{i+1}^{(n)}}{(\\Delta x)^2} + \\mathcal{O} \\left[ \\Delta t, (\\Delta x)^2 \\right]\n",
    "\\end{split}\n",
    "\\label{eq:Ec6_27} \\tag{6.27}\n",
    "\\end{equation*}\n",
    "\n",
    "Por último, de la anterior ecuación se despeja la variable temporal en el tiempo siguiente, $T_i^{(n+1)}$ y se llega al esquema llamado *Método de Euler explícito*:\n",
    "\n",
    "<a id='Ec6_28'></a>\n",
    "\\begin{equation*}\n",
    "\\begin{split}\n",
    "T_{i}^{(n+1)} = T_{i}^{(n)} + \\alpha (\\Delta t) \\frac{T_{i-1}^{(n)}-2T_i^{(n)}+T_{i+1}^{(n)}}{(\\Delta x)^2}\n",
    "\\end{split}\n",
    "\\label{eq:Ec6_28} \\tag{6.28}\n",
    "\\end{equation*}\n",
    "\n",
    "El lado derecho de la ecuación [(6.28)](#Ec6_28) solamente depende de los valores de $T$ en el nivel de tiempo $n$.\n",
    "\n",
    "La molécula de diferencias finitas resultante se observa en la siguiente figura\n",
    "\n",
    "<p float=\"center\">\n",
    "  <img src=\"https://github.com/carlosalvarezh/Modelos_Matematicos/blob/main/Figs/S06_F05_Explicit.PNG?raw=true\" width=\"250\" />\n",
    "</p>\n",
    "\n",
    "<div style=\"text-align: right\"> Fuente: <a href=\"\">Propio</a> </div>\n",
    "\n",
    "***Observaciones:***\n",
    "\n",
    "- Por las C.Aux. cuando $n=0$ y $x=0$, los valores de $T_i^{(0)}$ son conocidos\n",
    "\n",
    "\n",
    "- Avanzando en el tiempo se obtiene un sistema de ecuaciones lineales, cuyas incógnitas son los valores de $T^{(n+1)}$.\n",
    "\n",
    "\n",
    "- Solamente se puede calcular $T^{(n+1)}$ después de conocer los valores en $T^{(n)}$.\n",
    "\n",
    "\n",
    "***Dificultades:***\n",
    "\n",
    "- Excluyen valores de C.C. en el nivel de tiempo $n$, que tiene influencia sobre la solución del problema en el nivel de tiempo $n+1$.\n",
    "\n",
    "<p float=\"center\">\n",
    "  <img src=\"https://github.com/carlosalvarezh/Modelos_Matematicos/blob/main/Figs/S06_F06_ExplicitDrawbacks.PNG?raw=true\" width=\"300\" />\n",
    "</p>\n",
    "\n",
    "<div style=\"text-align: right\"> Fuente: <a href=\"\">Propio</a> </div>\n",
    "\n",
    "- La solución en los nodos en amarillo no tiene efecto sobre la solución en el punto interno $(x,t)$ en el nivel de tiempo $n+2$.\n",
    "\n",
    "\n",
    "- La solución en el punto $(x,t)$ es influenciada solamente por las C.C. del nivel de tiempo $n$, y no por el valor de la C.C. en el nivel de tiempo $n+2$.\n",
    "\n",
    "\n",
    "- Efecto exclusivamente numérico, equivalente a un atraso en la propagación de las C.C. adentro del dominio.\n",
    "\n",
    "\n",
    "- Físicamente incorrecto.\n",
    "\n",
    "\n",
    "- Este fenómeno causa grandes errores cuando las C.C. presentan variaciones considerables entre instantes sucesivos de tiempo."
   ]
  },
  {
   "cell_type": "markdown",
   "id": "72646db5",
   "metadata": {},
   "source": [
    "#### Discretización implícita"
   ]
  },
  {
   "cell_type": "markdown",
   "id": "94b8349b",
   "metadata": {},
   "source": [
    "Proceso de Marcha en el tiempo (igual que en el Explícito). $T^{(1)}$ es calculado a partir de las condiciones iniciales. $T^{(2)}, T^{(3)}, \\ldots$, son calculados secuencialmente, precisando de todos los valores del paso anterior. La diferencia está en la forma como es calculado $T^{(n+1)}$. La discretización espacial se realiza en el nivel de tiempo $n+1$.\n",
    "\n",
    "<a id='Ec6_29'></a>\n",
    "\\begin{equation*}\n",
    "\\begin{split}\n",
    "\\frac{T_{i}^{(n+1)}-T_{i}^{(n)}}{\\Delta t} = \\alpha\\frac{T_{i-1}^{(n+1)}-2T_i^{(n+1)}+T_{i+1}^{(n+1)}}{(\\Delta x)^2} + \\mathcal{O} \\left[ \\Delta t, (\\Delta x)^2 \\right]\n",
    "\\end{split}\n",
    "\\label{eq:Ec6_29} \\tag{6.29}\n",
    "\\end{equation*}\n",
    "\n",
    "reorganizando la ecuación para dejar a un lado los términos evaluados en $T^{(n+1)}$ y al otro lado los términos evaluados en $T^{(n)}$, obteniéndose la expresión del *método de Euler implícito*.\n",
    "\n",
    "<a id='Ec6_30'></a>\n",
    "\\begin{equation*}\n",
    "\\begin{split}\n",
    "-sT_{i-1}^{(n+1)}+(1+2s)T_{i}^{(n+1)}-sT_{i+1}^{(n+1)}=T_{i}^{(n)}\n",
    "\\end{split}\n",
    "\\label{eq:Ec6_30} \\tag{6.30}\n",
    "\\end{equation*}\n",
    "\n",
    "donde $s=\\frac{\\alpha (\\Delta t)}{(\\Delta x)^2}$\n",
    "\n",
    "La molécula de diferencias finitas resultante para el método implicito es:\n",
    "\n",
    "<p float=\"center\">\n",
    "  <img src=\"https://github.com/carlosalvarezh/Modelos_Matematicos/blob/main/Figs/S06_F07_Implicit.PNG?raw=true\" width=\"250\" />\n",
    "</p>\n",
    "\n",
    "<div style=\"text-align: right\"> Fuente: <a href=\"\">Propio</a> </div>\n",
    "\n",
    "La ecuación [(6.30)](#Ec6_30) por sí sola no permite determinar el valor de $T_{i}^{(n+1)}$. A cada paso de tiempo aparecen tres incógnitas nuevas: $T_{i-1}^{(n+1)}, T_{i}^{(n+1)}$ y $T_{i+1}^{(n+1)}$. El valor $T_{i}^{(n+1)}$ está definido “implícitamente”. \n",
    "\n",
    "Escribiendo las ecuaciones asociadas a cada nodo de la malla discretizada\n",
    "\n",
    "<a id='Ec6_31'></a>\n",
    "\\begin{equation*}\n",
    "\\begin{split}\n",
    "-sT_{0}^{(n+1)}+(1+2s)T_{1}^{(n+1)}-sT_{2}^{(n+1)} &= T_{1}^{(n)}\\\\\n",
    "-sT_{1}^{(n+1)}+(1+2s)T_{2}^{(n+1)}-sT_{3}^{(n+1)} &= T_{2}^{(n)}\\\\\n",
    "-sT_{2}^{(n+1)}+(1+2s)T_{3}^{(n+1)}-sT_{4}^{(n+1)} &= T_{3}^{(n)}\\\\\n",
    "& \\vdots \\\\\n",
    "-sT_{IM-3}^{(n+1)}+(1+2s)T_{IM-2}^{(n+1)}-sT_{IM-1}^{(n+1)} &= T_{IM-2}^{(n)}\\\\\n",
    "-sT_{IM-2}^{(n+1)}+(1+2s)T_{IM-1}^{(n+1)}-sT_{IM}^{(n+1)} &= T_{IM-1}^{(n)}\n",
    "\\end{split}\n",
    "\\label{eq:Ec6_31} \\tag{6.31}\n",
    "\\end{equation*}\n",
    "\n",
    "aplicando las condiciones de contorno en la ecuación [(6.31)](#Ec6_31)\n",
    "\n",
    "<a id='Ec6_32'></a>\n",
    "\\begin{equation*}\n",
    "\\begin{split}\n",
    "(1+2s)T_{1}^{(n+1)}-sT_{2}^{(n+1)} &= T_{1}^{(n)} + sT_{0}^{(n+1)}\\\\\n",
    "-sT_{1}^{(n+1)}+(1+2s)T_{2}^{(n+1)}-sT_{3}^{(n+1)} &= T_{2}^{(n)}\\\\\n",
    "-sT_{2}^{(n+1)}+(1+2s)T_{3}^{(n+1)}-sT_{4}^{(n+1)} &= T_{3}^{(n)}\\\\\n",
    "& \\vdots \\\\\n",
    "-sT_{IM-3}^{(n+1)}+(1+2s)T_{IM-2}^{(n+1)}-sT_{IM-1}^{(n+1)} &= T_{IM-2}^{(n)}\\\\\n",
    "-sT_{IM-2}^{(n+1)}+(1+2s)T_{IM-1}^{(n+1)} &= T_{IM-1}^{(n)} + sT_{IM}^{(n+1)}\n",
    "\\end{split}\n",
    "\\label{eq:Ec6_32} \\tag{6.32}\n",
    "\\end{equation*}\n",
    "\n",
    "representando la anterior ecuación en forma matricial, se tiene \n",
    "\n",
    "<a id='Ec6_33'></a>\n",
    "\\begin{align*}\n",
    "\\left[\\begin{array}{ccccccccc}\n",
    "  1 + 2s &   -s   &    0   &    0   & \\ldots &    0    \\\\\n",
    "    -s   & 1 + 2s &    -s  &    0   & \\ldots &    0    \\\\\n",
    "  0      &   -s   & 1 + 2s &    -s  & \\ldots &    0    \\\\\n",
    "         &        &        & \\ddots &        &         \\\\\n",
    "  0      & \\ldots &    0   &   -s   & 1+2s   &    -s   \\\\\n",
    "  0      & \\ldots &    0   &    0   &   -s   &   1+2s  \n",
    "  \\end{array}\\right]\n",
    "\\begin{Bmatrix}\n",
    "T_{1}^{(n+1)}\\\\\n",
    "T_{2}^{(n+1)}\\\\\n",
    "T_{3}^{(n+1)}\\\\\n",
    "\\ldots\\\\\n",
    "T_{IM-2}^{(n+1)}\\\\\n",
    "T_{IM-1}^{(n+1)}\n",
    "\\end{Bmatrix}\n",
    "= \\begin{Bmatrix}\n",
    "T_{1}^{(n)}+ sT_{0}^{(n+1)}\\\\\n",
    "T_{2}^{(n)}\\\\\n",
    "T_{3}^{(n)}\\\\\n",
    "\\vdots\\\\\n",
    "T_{IM-2}^{(n)}\\\\\n",
    "T_{IM-1}^{(n)}+sT_{IM}^{(n+1)}\n",
    "\\end{Bmatrix}\n",
    "\\label{eq:Ec6_33} \\tag{6.33}\n",
    "\\end{align*}\n",
    "\n"
   ]
  },
  {
   "cell_type": "markdown",
   "id": "ff1c3c0b",
   "metadata": {},
   "source": [
    "#### Resumen"
   ]
  },
  {
   "cell_type": "markdown",
   "id": "713c2015",
   "metadata": {},
   "source": [
    "***Métodos explícitos:***\n",
    "\n",
    "- Las ecuaciones resultantes son independientes, por lo tanto, la solución es directa.\n",
    "\n",
    "\n",
    "***Métodos implícitos:***\n",
    "\n",
    "- Las ecuaciones resultantes son acopladas, por lo que se debe resolver un sistema de ecuaciones lineales en cada instante de tiempo!"
   ]
  },
  {
   "cell_type": "markdown",
   "id": "f541f75a",
   "metadata": {},
   "source": [
    "### Discretización multidimensional"
   ]
  },
  {
   "cell_type": "markdown",
   "id": "c2d3ad22",
   "metadata": {},
   "source": [
    "Como ejemplo, tomemos la ecuación de difusión no permanente en 2D\n",
    "\n",
    "<a id='Ec6_34'></a>\n",
    "\\begin{equation*}\n",
    "\\begin{split}\n",
    "\\frac{\\partial \\phi}{\\partial t} = \\alpha \\nabla^2 \\phi = \\alpha \\left( \\frac{\\partial^2 \\phi}{\\partial x^2} + \\frac{\\partial^2 \\phi}{\\partial y^2} \\right)\n",
    "\\end{split}\n",
    "\\label{eq:Ec6_34} \\tag{6.34}\n",
    "\\end{equation*}\n",
    "\n",
    "un dominio computacional en 2D, discretizado por una serie de nodos y elementos, se observa en la siguiente figura.\n",
    "\n",
    "<p float=\"center\">\n",
    "  <img src=\"https://github.com/carlosalvarezh/Modelos_Matematicos/blob/main/Figs/S06_F08_Multidimensional.PNG?raw=true\" width=\"250\" />\n",
    "</p>\n",
    "\n",
    "<div style=\"text-align: right\"> Fuente: <a href=\"\">Propio</a> </div>\n",
    "\n",
    "- Empleando el método de Euler explícito y diferencias finitas centrales de segundo orden, se llega a\n",
    "\n",
    "<a id='Ec6_35'></a>\n",
    "\\begin{equation*}\n",
    "\\begin{split}\n",
    "\\frac{\\phi_{i,j}^{(n+1)}-\\phi_{i,j}^{(n)}}{\\Delta t} = \\alpha \\frac{\\phi_{i+1,j}^{(n)}-2\\phi_{i,j}^{(n)}+\\phi_{i-1,j}^{(n)}}{(\\Delta x)^2} + \\alpha \\frac{\\phi_{i,j+1}^{(n)}-2\\phi_{i,j}^{(n)}+\\phi_{i,j-1}^{(n)}}{(\\Delta y)^2} + \\mathcal{O} \\left[(\\Delta t),(\\Delta x)^2,(\\Delta y)^2\\right]\n",
    "\\end{split}\n",
    "\\label{eq:Ec6_35} \\tag{6.35}\n",
    "\\end{equation*}\n",
    "\n",
    "organizando términos,\n",
    "\n",
    "<a id='Ec6_36'></a>\n",
    "\\begin{equation*}\n",
    "\\begin{split}\n",
    "\\phi_{i,j}^{(n+1)}=\\phi_{i,j}^{(n)} + s_x \\left( \\phi_{i+1,j}^{(n)} - 2\\phi_{i,j}^{(n)} + \\phi_{i-1,j}^{(n)} \\right) + s_y \\left( \\phi_{i,j+1}^{(n)} - 2\\phi_{i,j}^{(n)} + \\phi_{i,j-1}^{(n)} \\right)\n",
    "\\end{split}\n",
    "\\label{eq:Ec6_36} \\tag{6.36}\n",
    "\\end{equation*}\n",
    "\n",
    "\n",
    "- Ahora empleando el método de Euler implícito y diferencias finitas centrales de segundo orden,\n",
    "\n",
    "<a id='Ec6_37'></a>\n",
    "\\begin{equation*}\n",
    "\\begin{split}\n",
    "-s_x \\left( \\phi_{i+1,j}^{(n+1)} + \\phi_{i-1,j}^{(n+1)} \\right) + \\left[1+2\\left( s_x+s_y \\right) \\right] \\phi_{i,j}^{(n+1)} - s_y \\left( \\phi_{i,j+1}^{(n+1)} + \\phi_{i,j-1}^{(n+1)} \\right) = \\phi_{i,j}^{(n)} \n",
    "\\end{split}\n",
    "\\label{eq:Ec6_37} \\tag{6.37}\n",
    "\\end{equation*}\n",
    "\n",
    "donde $s_x=\\frac{\\alpha (\\Delta t)}{(\\Delta x)^2}$ y $s_y=\\frac{\\alpha (\\Delta t)}{(\\Delta y)^2}$"
   ]
  },
  {
   "cell_type": "markdown",
   "id": "f47c6f08",
   "metadata": {},
   "source": [
    "## Consistencia, Convergencia y Estabilidad"
   ]
  },
  {
   "cell_type": "markdown",
   "id": "2b9fee63",
   "metadata": {},
   "source": [
    "### Introducción"
   ]
  },
  {
   "cell_type": "code",
   "execution_count": null,
   "id": "f724c187",
   "metadata": {},
   "outputs": [],
   "source": []
  }
 ],
 "metadata": {
  "kernelspec": {
   "display_name": "Python 3",
   "language": "python",
   "name": "python3"
  },
  "language_info": {
   "codemirror_mode": {
    "name": "ipython",
    "version": 3
   },
   "file_extension": ".py",
   "mimetype": "text/x-python",
   "name": "python",
   "nbconvert_exporter": "python",
   "pygments_lexer": "ipython3",
   "version": "3.6.13"
  },
  "toc": {
   "base_numbering": 1,
   "nav_menu": {},
   "number_sections": true,
   "sideBar": true,
   "skip_h1_title": true,
   "title_cell": "Tabla de Contenidos",
   "title_sidebar": "Contenidos",
   "toc_cell": true,
   "toc_position": {
    "height": "calc(100% - 180px)",
    "left": "10px",
    "top": "150px",
    "width": "165px"
   },
   "toc_section_display": true,
   "toc_window_display": true
  }
 },
 "nbformat": 4,
 "nbformat_minor": 5
}
